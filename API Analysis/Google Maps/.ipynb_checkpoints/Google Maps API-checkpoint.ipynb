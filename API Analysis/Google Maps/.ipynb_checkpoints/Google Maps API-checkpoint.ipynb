{
 "cells": [
  {
   "cell_type": "code",
   "execution_count": 263,
   "metadata": {},
   "outputs": [],
   "source": [
    "import googlemaps\n",
    "from datetime import datetime"
   ]
  },
  {
   "cell_type": "code",
   "execution_count": 264,
   "metadata": {},
   "outputs": [],
   "source": [
    "Key = ''"
   ]
  },
  {
   "cell_type": "code",
   "execution_count": 265,
   "metadata": {},
   "outputs": [],
   "source": [
    "gmaps = googlemaps.Client(key=Key)"
   ]
  },
  {
   "cell_type": "code",
   "execution_count": 266,
   "metadata": {},
   "outputs": [],
   "source": [
    "details = gmaps.places_autocomplete_query('Fortinos near Oakville, ON, Canada')[0]['description']"
   ]
  },
  {
   "cell_type": "code",
   "execution_count": 267,
   "metadata": {},
   "outputs": [
    {
     "data": {
      "text/plain": [
       "'fortinos near Oakville, ON, Canada'"
      ]
     },
     "execution_count": 267,
     "metadata": {},
     "output_type": "execute_result"
    }
   ],
   "source": [
    "details"
   ]
  },
  {
   "cell_type": "code",
   "execution_count": 269,
   "metadata": {},
   "outputs": [],
   "source": [
    "place_id = gmaps.find_place(details,input_type = 'textquery')"
   ]
  },
  {
   "cell_type": "code",
   "execution_count": 270,
   "metadata": {},
   "outputs": [
    {
     "data": {
      "text/plain": [
       "'ChIJEf1NcPRnK4gR3LD_jU-pMhc'"
      ]
     },
     "execution_count": 270,
     "metadata": {},
     "output_type": "execute_result"
    }
   ],
   "source": [
    "place_id['candidates'][0]['place_id']"
   ]
  },
  {
   "cell_type": "code",
   "execution_count": 135,
   "metadata": {},
   "outputs": [],
   "source": [
    "result = gmaps.place(place_id['candidates'][0]['place_id'])"
   ]
  },
  {
   "cell_type": "code",
   "execution_count": 147,
   "metadata": {
    "scrolled": true
   },
   "outputs": [
    {
     "data": {
      "text/plain": [
       "dict_keys(['address_components', 'adr_address', 'business_status', 'formatted_address', 'formatted_phone_number', 'geometry', 'icon', 'international_phone_number', 'name', 'opening_hours', 'photos', 'place_id', 'plus_code', 'rating', 'reference', 'reviews', 'types', 'url', 'user_ratings_total', 'utc_offset', 'vicinity', 'website'])"
      ]
     },
     "execution_count": 147,
     "metadata": {},
     "output_type": "execute_result"
    }
   ],
   "source": [
    "result['result'].keys()"
   ]
  },
  {
   "cell_type": "code",
   "execution_count": 136,
   "metadata": {},
   "outputs": [
    {
     "data": {
      "text/plain": [
       "dict_keys(['html_attributions', 'result', 'status'])"
      ]
     },
     "execution_count": 136,
     "metadata": {},
     "output_type": "execute_result"
    }
   ],
   "source": [
    "result.keys()"
   ]
  },
  {
   "cell_type": "code",
   "execution_count": 149,
   "metadata": {
    "scrolled": true
   },
   "outputs": [
    {
     "data": {
      "text/plain": [
       "4.5"
      ]
     },
     "execution_count": 149,
     "metadata": {},
     "output_type": "execute_result"
    }
   ],
   "source": [
    "result['result']['rating']"
   ]
  },
  {
   "cell_type": "code",
   "execution_count": 138,
   "metadata": {},
   "outputs": [
    {
     "data": {
      "text/plain": [
       "'493 Dundas St W, Oakville, ON L6M 4M2, Canada'"
      ]
     },
     "execution_count": 138,
     "metadata": {},
     "output_type": "execute_result"
    }
   ],
   "source": [
    "result['result']['formatted_address']"
   ]
  },
  {
   "cell_type": "code",
   "execution_count": 139,
   "metadata": {},
   "outputs": [
    {
     "data": {
      "text/plain": [
       "dict_keys(['address_components', 'adr_address', 'business_status', 'formatted_address', 'formatted_phone_number', 'geometry', 'icon', 'international_phone_number', 'name', 'opening_hours', 'photos', 'place_id', 'plus_code', 'rating', 'reference', 'reviews', 'types', 'url', 'user_ratings_total', 'utc_offset', 'vicinity', 'website'])"
      ]
     },
     "execution_count": 139,
     "metadata": {},
     "output_type": "execute_result"
    }
   ],
   "source": [
    "result['result'].keys()"
   ]
  },
  {
   "cell_type": "code",
   "execution_count": 140,
   "metadata": {
    "scrolled": true
   },
   "outputs": [
    {
     "data": {
      "text/plain": [
       "-240"
      ]
     },
     "execution_count": 140,
     "metadata": {},
     "output_type": "execute_result"
    }
   ],
   "source": [
    "result['result']['utc_offset']"
   ]
  },
  {
   "cell_type": "markdown",
   "metadata": {},
   "source": [
    "# Reviews Pull"
   ]
  },
  {
   "cell_type": "code",
   "execution_count": 141,
   "metadata": {},
   "outputs": [],
   "source": [
    "from outscraper import ApiClient\n",
    "import json"
   ]
  },
  {
   "cell_type": "code",
   "execution_count": 268,
   "metadata": {},
   "outputs": [],
   "source": [
    "api_cliet = ApiClient(api_key='')"
   ]
  },
  {
   "cell_type": "code",
   "execution_count": 111,
   "metadata": {},
   "outputs": [],
   "source": [
    "reviews_response = api_cliet.google_maps_business_reviews(\n",
    "    'Fortinos near Oakville, ON, Canada', limit=100, language='en')"
   ]
  },
  {
   "cell_type": "code",
   "execution_count": 114,
   "metadata": {
    "scrolled": true
   },
   "outputs": [
    {
     "data": {
      "text/plain": [
       "dict_keys(['name', 'full_address', 'borough', 'street', 'city', 'postal_code', 'country_code', 'country', 'us_state', 'state', 'plus_code', 'latitude', 'longitude', 'time_zone', 'site', 'phone', 'type', 'subtypes', 'posts', 'rating', 'reviews', 'reviews_data', 'photos_count', 'google_id', 'place_id', 'reviews_link', 'reviews_id', 'photo', 'working_hours_old_format', 'working_hours', 'business_status', 'about', 'range', 'reviews_per_score', 'reserving_table_link', 'booking_appointment_link', 'owner_id', 'verified', 'owner_title', 'owner_link', 'location_link'])"
      ]
     },
     "execution_count": 114,
     "metadata": {},
     "output_type": "execute_result"
    }
   ],
   "source": [
    "reviews_response[0].keys()"
   ]
  },
  {
   "cell_type": "code",
   "execution_count": 162,
   "metadata": {},
   "outputs": [
    {
     "data": {
      "text/plain": [
       "dict_keys(['google_id', 'autor_link', 'autor_name', 'autor_id', 'autor_image', 'review_text', 'review_img_url', 'owner_answer', 'owner_answer_timestamp', 'owner_answer_timestamp_datetime_utc', 'review_link', 'review_rating', 'review_timestamp', 'review_datetime_utc', 'review_likes', 'reviews_id'])"
      ]
     },
     "execution_count": 162,
     "metadata": {},
     "output_type": "execute_result"
    }
   ],
   "source": [
    "reviews_response[0]['reviews_data'][0].keys()"
   ]
  },
  {
   "cell_type": "code",
   "execution_count": 171,
   "metadata": {},
   "outputs": [
    {
     "data": {
      "text/plain": [
       "'https://www.google.com/maps/contrib/105490809867548247870?hl=en-US'"
      ]
     },
     "execution_count": 171,
     "metadata": {},
     "output_type": "execute_result"
    }
   ],
   "source": [
    "reviews_response[0]['reviews_data'][4]['autor_link']"
   ]
  },
  {
   "cell_type": "code",
   "execution_count": 117,
   "metadata": {},
   "outputs": [],
   "source": [
    "with open('reviews.json','w') as file : \n",
    "    json.dump(reviews_response,file,indent = 4)"
   ]
  },
  {
   "cell_type": "code",
   "execution_count": 121,
   "metadata": {},
   "outputs": [],
   "source": [
    "review_data = reviews_response[0]['reviews_data']"
   ]
  },
  {
   "cell_type": "code",
   "execution_count": 125,
   "metadata": {},
   "outputs": [
    {
     "data": {
      "text/plain": [
       "{'google_id': '0x882b67f4704dfd11:0x1732a94f8dffb0dc',\n",
       " 'autor_link': 'https://www.google.com/maps/contrib/113152004587692957470?hl=en-US',\n",
       " 'autor_name': 'Moataz Abdellateef',\n",
       " 'autor_id': '113152004587692957470',\n",
       " 'autor_image': 'https://lh3.googleusercontent.com/a/AATXAJyvA4Re87Z1e0TB3vJsJlIgk7y5hvcwwwLceSaS=s120-c-c0x00000000-cc-rp-mo-ba3-br100',\n",
       " 'review_text': 'I simply love this grocery store and their coffee corner. They have in my opinion one of the best served espressos in town. Very clean, organized. Definitely more expensive than others, but food and produce quality is superb there.',\n",
       " 'review_img_url': 'https://lh3.googleusercontent.com/a/AATXAJyvA4Re87Z1e0TB3vJsJlIgk7y5hvcwwwLceSaS',\n",
       " 'owner_answer': None,\n",
       " 'owner_answer_timestamp': None,\n",
       " 'owner_answer_timestamp_datetime_utc': None,\n",
       " 'review_link': 'https://www.google.com/maps/reviews/data=!4m5!14m4!1m3!1m2!1s113152004587692957470!2s0x0:0x1732a94f8dffb0dc?hl=en-US',\n",
       " 'review_rating': 5,\n",
       " 'review_timestamp': 1620147844,\n",
       " 'review_datetime_utc': '05/04/2021 17:04:04',\n",
       " 'review_likes': 0,\n",
       " 'reviews_id': '1671584570857730268'}"
      ]
     },
     "execution_count": 125,
     "metadata": {},
     "output_type": "execute_result"
    }
   ],
   "source": [
    "review_data[0]"
   ]
  },
  {
   "cell_type": "code",
   "execution_count": 189,
   "metadata": {},
   "outputs": [],
   "source": [
    "import requests\n",
    "import json"
   ]
  },
  {
   "cell_type": "code",
   "execution_count": 262,
   "metadata": {},
   "outputs": [
    {
     "data": {
      "text/plain": [
       "'Local Guide | 618 Points\" item'"
      ]
     },
     "execution_count": 262,
     "metadata": {},
     "output_type": "execute_result"
    }
   ],
   "source": [
    "abc= requests.get(reviews_response[0]['reviews_data'][9]['autor_link'])\n",
    "abc.text[abc.text.find('Local Guide'): abc.text.find('Local Guide')+30]"
   ]
  },
  {
   "cell_type": "code",
   "execution_count": null,
   "metadata": {},
   "outputs": [],
   "source": []
  }
 ],
 "metadata": {
  "kernelspec": {
   "display_name": "Python 3",
   "language": "python",
   "name": "python3"
  },
  "language_info": {
   "codemirror_mode": {
    "name": "ipython",
    "version": 3
   },
   "file_extension": ".py",
   "mimetype": "text/x-python",
   "name": "python",
   "nbconvert_exporter": "python",
   "pygments_lexer": "ipython3",
   "version": "3.8.5"
  }
 },
 "nbformat": 4,
 "nbformat_minor": 4
}
