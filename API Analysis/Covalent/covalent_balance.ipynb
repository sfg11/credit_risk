{
 "cells": [
  {
   "cell_type": "code",
   "execution_count": 1,
   "metadata": {},
   "outputs": [],
   "source": [
    "import requests\n",
    "import pandas as pd\n",
    "import json\n",
    "from pyhocon import ConfigFactory\n",
    "import os\n",
    "import time\n",
    "import numpy as np\n",
    "from matplotlib import pyplot as plt\n",
    "import seaborn as sns"
   ]
  },
  {
   "cell_type": "code",
   "execution_count": 2,
   "metadata": {},
   "outputs": [],
   "source": [
    "# conf = ConfigFactory.parse_file('API_Keys.conf')\n",
    "# key = conf.get_string('API.covalent.key')"
   ]
  },
  {
   "cell_type": "code",
   "execution_count": 3,
   "metadata": {},
   "outputs": [],
   "source": [
    "# pths = r'D:\\Teller_Finance\\wallet_info_from_covalent'"
   ]
  },
  {
   "cell_type": "code",
   "execution_count": 4,
   "metadata": {},
   "outputs": [],
   "source": [
    "# #fetch all wallet data\n",
    "# wallet_address = []\n",
    "# wallet_files = os.listdir(pths)\n",
    "# while wallet_files:\n",
    "#     data= pd.read_csv(pths + '\\\\'+ wallet_files.pop()).drop(columns=['Unnamed: 0','index']).dropna()\n",
    "#     wallet_address.extend(data['address'].unique().tolist())"
   ]
  },
  {
   "cell_type": "code",
   "execution_count": 5,
   "metadata": {},
   "outputs": [],
   "source": [
    "# print('Number of wallet...', len(wallet_address))"
   ]
  },
  {
   "cell_type": "code",
   "execution_count": 6,
   "metadata": {},
   "outputs": [],
   "source": [
    "# wallet_files = os.listdir(pths)\n",
    "# wallet_raw_df = pd.DataFrame()\n",
    "# i = 0\n",
    "# while wallet_files:\n",
    "#     data= pd.read_csv(pths + '\\\\'+ wallet_files.pop()).drop(columns=['Unnamed: 0','index']).dropna()\n",
    "#     wallet_raw_df = wallet_raw_df.append(data)\n",
    "# wallet_raw_df.to_parquet('wallet_raw_df.parquet.gzip', compression='gzip')\n"
   ]
  },
  {
   "cell_type": "code",
   "execution_count": 7,
   "metadata": {},
   "outputs": [],
   "source": [
    "# def create_api_string(api, input_dict=None):\n",
    "#     try:\n",
    "#         return api.format(**input_dict)\n",
    "#     except:\n",
    "#         print('Failed to Create Api String')"
   ]
  },
  {
   "cell_type": "code",
   "execution_count": 8,
   "metadata": {},
   "outputs": [],
   "source": [
    "# def secs():\n",
    "#     return np.random.randint(1,5)\n",
    "\n",
    "# df_res= pd.DataFrame()\n",
    "# for addr in wallet_address[0:500]:\n",
    "#     time.sleep(secs())\n",
    "#     input_dict = {\"address\":addr, \"blockchain_data\" :\"balances_v2\"}\n",
    "#     api_= create_api_string(\"https://api.covalenthq.com/v1/1/address/{address}/{blockchain_data}/\",input_dict)\n",
    "#     params={\"limit\":\"100\", \"key\":key } # replace the key with your key and : at the end and this should work\n",
    "#     r = requests.get(api_ ,params = params)\n",
    "#     df = pd.read_json(r.content,orient='index').reset_index().rename(columns={'index':'server_output'})\n",
    "#     df = df.loc[ df['server_output'] == 'data'] # get the data component as opposed to error\n",
    "#     df_res = df_res.append(df)\n"
   ]
  },
  {
   "cell_type": "code",
   "execution_count": 9,
   "metadata": {},
   "outputs": [],
   "source": [
    "# df_res.to_parquet('balance_data_first_500_wallets.gzip',\n",
    "#               compression='gzip')"
   ]
  },
  {
   "cell_type": "code",
   "execution_count": 10,
   "metadata": {},
   "outputs": [],
   "source": [
    "fl='covalent_balance_snapshot_as_of_5_28.gzip'\n",
    "df_res=pd.read_parquet(fl)"
   ]
  },
  {
   "cell_type": "code",
   "execution_count": 11,
   "metadata": {},
   "outputs": [],
   "source": [
    "df_balance=pd.DataFrame()\n",
    "df_balance['quote_currency']  =np.nan\n",
    "df_balance['balance'] = np.nan\n",
    "\n",
    "for ll in range(df_res.shape[0]):\n",
    "    quote_currency =df_res['quote_currency'].iloc[ll]\n",
    "    for cc in df_res['items'].iloc[ll]:\n",
    "        if cc['contract_name'] == 'Ether':\n",
    "            balance = int(cc['balance'])/10**int(cc['contract_decimals'])\n",
    "    df_balance.loc[ll] = [quote_currency,balance]\n",
    "            "
   ]
  },
  {
   "cell_type": "code",
   "execution_count": 12,
   "metadata": {},
   "outputs": [
    {
     "data": {
      "image/png": "[encoded data removed]",
      "text/plain": [
       "<Figure size 720x360 with 1 Axes>"
      ]
     },
     "metadata": {
      "needs_background": "light"
     },
     "output_type": "display_data"
    }
   ],
   "source": [
    "figure = plt.figure(figsize = [10,5])\n",
    "plt.hist( df_balance['balance'], bins = 50)\n",
    "plt.show()"
   ]
  },
  {
   "cell_type": "code",
   "execution_count": 13,
   "metadata": {},
   "outputs": [
    {
     "data": {
      "text/plain": [
       "count    6159.000000\n",
       "mean        4.211415\n",
       "std       111.309518\n",
       "min         0.000000\n",
       "25%         0.013580\n",
       "50%         0.081368\n",
       "75%         0.481037\n",
       "max      8281.442928\n",
       "Name: balance, dtype: float64"
      ]
     },
     "execution_count": 13,
     "metadata": {},
     "output_type": "execute_result"
    }
   ],
   "source": [
    "df_balance['balance'].describe()"
   ]
  },
  {
   "cell_type": "code",
   "execution_count": 14,
   "metadata": {},
   "outputs": [
    {
     "data": {
      "image/png": "[encoded data removed]",
      "text/plain": [
       "<Figure size 1440x720 with 1 Axes>"
      ]
     },
     "metadata": {
      "needs_background": "light"
     },
     "output_type": "display_data"
    }
   ],
   "source": [
    "figure = plt.figure(figsize = [20,10])\n",
    "sns.ecdfplot(data=df_balance, x=\"balance\" , stat='proportion')\n",
    "plt.xlim(-0.5,10)\n",
    "plt.show()"
   ]
  },
  {
   "cell_type": "code",
   "execution_count": 15,
   "metadata": {},
   "outputs": [
    {
     "data": {
      "text/plain": [
       "5.13"
      ]
     },
     "execution_count": 15,
     "metadata": {},
     "output_type": "execute_result"
    }
   ],
   "source": [
    "np.round(100*df_balance[df_balance['balance']==0].shape[0]/df_balance.shape[0],2)"
   ]
  },
  {
   "cell_type": "code",
   "execution_count": 16,
   "metadata": {},
   "outputs": [],
   "source": [
    "#how much dollar balance is in each wallet? These are all in USD\n",
    "\n",
    "df_dollar_balance=pd.DataFrame()\n",
    "df_dollar_balance['quote_currency']  =np.nan\n",
    "df_dollar_balance['balance'] = np.nan\n",
    "for ll in range(df_res.shape[0]):\n",
    "    quote_currency =df_res['quote_currency'].iloc[ll]\n",
    "    balance = []\n",
    "    for cc in df_res['items'].iloc[ll]:\n",
    "        balance.append( int(cc['quote']))\n",
    "    dollar_balance = sum(balance)\n",
    "    df_dollar_balance.loc[ll] = [quote_currency,dollar_balance]"
   ]
  },
  {
   "cell_type": "code",
   "execution_count": 17,
   "metadata": {},
   "outputs": [
    {
     "data": {
      "text/html": [
       "<div>\n",
       "<style scoped>\n",
       "    .dataframe tbody tr th:only-of-type {\n",
       "        vertical-align: middle;\n",
       "    }\n",
       "\n",
       "    .dataframe tbody tr th {\n",
       "        vertical-align: top;\n",
       "    }\n",
       "\n",
       "    .dataframe thead th {\n",
       "        text-align: right;\n",
       "    }\n",
       "</style>\n",
       "<table border=\"1\" class=\"dataframe\">\n",
       "  <thead>\n",
       "    <tr style=\"text-align: right;\">\n",
       "      <th></th>\n",
       "      <th>quote_currency</th>\n",
       "      <th>balance</th>\n",
       "    </tr>\n",
       "  </thead>\n",
       "  <tbody>\n",
       "    <tr>\n",
       "      <th>0</th>\n",
       "      <td>USD</td>\n",
       "      <td>18.0</td>\n",
       "    </tr>\n",
       "    <tr>\n",
       "      <th>1</th>\n",
       "      <td>USD</td>\n",
       "      <td>627979.0</td>\n",
       "    </tr>\n",
       "    <tr>\n",
       "      <th>2</th>\n",
       "      <td>USD</td>\n",
       "      <td>378.0</td>\n",
       "    </tr>\n",
       "    <tr>\n",
       "      <th>3</th>\n",
       "      <td>USD</td>\n",
       "      <td>16667.0</td>\n",
       "    </tr>\n",
       "    <tr>\n",
       "      <th>4</th>\n",
       "      <td>USD</td>\n",
       "      <td>171.0</td>\n",
       "    </tr>\n",
       "    <tr>\n",
       "      <th>5</th>\n",
       "      <td>USD</td>\n",
       "      <td>17.0</td>\n",
       "    </tr>\n",
       "    <tr>\n",
       "      <th>6</th>\n",
       "      <td>USD</td>\n",
       "      <td>6398.0</td>\n",
       "    </tr>\n",
       "    <tr>\n",
       "      <th>7</th>\n",
       "      <td>USD</td>\n",
       "      <td>801.0</td>\n",
       "    </tr>\n",
       "    <tr>\n",
       "      <th>8</th>\n",
       "      <td>USD</td>\n",
       "      <td>10686.0</td>\n",
       "    </tr>\n",
       "    <tr>\n",
       "      <th>9</th>\n",
       "      <td>USD</td>\n",
       "      <td>1421.0</td>\n",
       "    </tr>\n",
       "    <tr>\n",
       "      <th>10</th>\n",
       "      <td>USD</td>\n",
       "      <td>548823.0</td>\n",
       "    </tr>\n",
       "    <tr>\n",
       "      <th>11</th>\n",
       "      <td>USD</td>\n",
       "      <td>950.0</td>\n",
       "    </tr>\n",
       "    <tr>\n",
       "      <th>12</th>\n",
       "      <td>USD</td>\n",
       "      <td>162.0</td>\n",
       "    </tr>\n",
       "    <tr>\n",
       "      <th>13</th>\n",
       "      <td>USD</td>\n",
       "      <td>6430.0</td>\n",
       "    </tr>\n",
       "    <tr>\n",
       "      <th>14</th>\n",
       "      <td>USD</td>\n",
       "      <td>19743.0</td>\n",
       "    </tr>\n",
       "    <tr>\n",
       "      <th>15</th>\n",
       "      <td>USD</td>\n",
       "      <td>4.0</td>\n",
       "    </tr>\n",
       "    <tr>\n",
       "      <th>16</th>\n",
       "      <td>USD</td>\n",
       "      <td>1712.0</td>\n",
       "    </tr>\n",
       "    <tr>\n",
       "      <th>17</th>\n",
       "      <td>USD</td>\n",
       "      <td>7.0</td>\n",
       "    </tr>\n",
       "    <tr>\n",
       "      <th>18</th>\n",
       "      <td>USD</td>\n",
       "      <td>8519.0</td>\n",
       "    </tr>\n",
       "    <tr>\n",
       "      <th>19</th>\n",
       "      <td>USD</td>\n",
       "      <td>1396.0</td>\n",
       "    </tr>\n",
       "    <tr>\n",
       "      <th>20</th>\n",
       "      <td>USD</td>\n",
       "      <td>58.0</td>\n",
       "    </tr>\n",
       "    <tr>\n",
       "      <th>21</th>\n",
       "      <td>USD</td>\n",
       "      <td>15301.0</td>\n",
       "    </tr>\n",
       "    <tr>\n",
       "      <th>22</th>\n",
       "      <td>USD</td>\n",
       "      <td>117.0</td>\n",
       "    </tr>\n",
       "    <tr>\n",
       "      <th>23</th>\n",
       "      <td>USD</td>\n",
       "      <td>88.0</td>\n",
       "    </tr>\n",
       "    <tr>\n",
       "      <th>24</th>\n",
       "      <td>USD</td>\n",
       "      <td>1345.0</td>\n",
       "    </tr>\n",
       "    <tr>\n",
       "      <th>25</th>\n",
       "      <td>USD</td>\n",
       "      <td>29.0</td>\n",
       "    </tr>\n",
       "    <tr>\n",
       "      <th>26</th>\n",
       "      <td>USD</td>\n",
       "      <td>41.0</td>\n",
       "    </tr>\n",
       "    <tr>\n",
       "      <th>27</th>\n",
       "      <td>USD</td>\n",
       "      <td>32198.0</td>\n",
       "    </tr>\n",
       "    <tr>\n",
       "      <th>28</th>\n",
       "      <td>USD</td>\n",
       "      <td>12.0</td>\n",
       "    </tr>\n",
       "    <tr>\n",
       "      <th>29</th>\n",
       "      <td>USD</td>\n",
       "      <td>63.0</td>\n",
       "    </tr>\n",
       "    <tr>\n",
       "      <th>...</th>\n",
       "      <td>...</td>\n",
       "      <td>...</td>\n",
       "    </tr>\n",
       "    <tr>\n",
       "      <th>6129</th>\n",
       "      <td>USD</td>\n",
       "      <td>6036.0</td>\n",
       "    </tr>\n",
       "    <tr>\n",
       "      <th>6130</th>\n",
       "      <td>USD</td>\n",
       "      <td>12365.0</td>\n",
       "    </tr>\n",
       "    <tr>\n",
       "      <th>6131</th>\n",
       "      <td>USD</td>\n",
       "      <td>902.0</td>\n",
       "    </tr>\n",
       "    <tr>\n",
       "      <th>6132</th>\n",
       "      <td>USD</td>\n",
       "      <td>142.0</td>\n",
       "    </tr>\n",
       "    <tr>\n",
       "      <th>6133</th>\n",
       "      <td>USD</td>\n",
       "      <td>60.0</td>\n",
       "    </tr>\n",
       "    <tr>\n",
       "      <th>6134</th>\n",
       "      <td>USD</td>\n",
       "      <td>0.0</td>\n",
       "    </tr>\n",
       "    <tr>\n",
       "      <th>6135</th>\n",
       "      <td>USD</td>\n",
       "      <td>4168.0</td>\n",
       "    </tr>\n",
       "    <tr>\n",
       "      <th>6136</th>\n",
       "      <td>USD</td>\n",
       "      <td>2453.0</td>\n",
       "    </tr>\n",
       "    <tr>\n",
       "      <th>6137</th>\n",
       "      <td>USD</td>\n",
       "      <td>7977.0</td>\n",
       "    </tr>\n",
       "    <tr>\n",
       "      <th>6138</th>\n",
       "      <td>USD</td>\n",
       "      <td>0.0</td>\n",
       "    </tr>\n",
       "    <tr>\n",
       "      <th>6139</th>\n",
       "      <td>USD</td>\n",
       "      <td>424.0</td>\n",
       "    </tr>\n",
       "    <tr>\n",
       "      <th>6140</th>\n",
       "      <td>USD</td>\n",
       "      <td>160.0</td>\n",
       "    </tr>\n",
       "    <tr>\n",
       "      <th>6141</th>\n",
       "      <td>USD</td>\n",
       "      <td>15.0</td>\n",
       "    </tr>\n",
       "    <tr>\n",
       "      <th>6142</th>\n",
       "      <td>USD</td>\n",
       "      <td>15837.0</td>\n",
       "    </tr>\n",
       "    <tr>\n",
       "      <th>6143</th>\n",
       "      <td>USD</td>\n",
       "      <td>27422.0</td>\n",
       "    </tr>\n",
       "    <tr>\n",
       "      <th>6144</th>\n",
       "      <td>USD</td>\n",
       "      <td>13.0</td>\n",
       "    </tr>\n",
       "    <tr>\n",
       "      <th>6145</th>\n",
       "      <td>USD</td>\n",
       "      <td>22933.0</td>\n",
       "    </tr>\n",
       "    <tr>\n",
       "      <th>6146</th>\n",
       "      <td>USD</td>\n",
       "      <td>14236.0</td>\n",
       "    </tr>\n",
       "    <tr>\n",
       "      <th>6147</th>\n",
       "      <td>USD</td>\n",
       "      <td>76.0</td>\n",
       "    </tr>\n",
       "    <tr>\n",
       "      <th>6148</th>\n",
       "      <td>USD</td>\n",
       "      <td>2842.0</td>\n",
       "    </tr>\n",
       "    <tr>\n",
       "      <th>6149</th>\n",
       "      <td>USD</td>\n",
       "      <td>18831.0</td>\n",
       "    </tr>\n",
       "    <tr>\n",
       "      <th>6150</th>\n",
       "      <td>USD</td>\n",
       "      <td>20093.0</td>\n",
       "    </tr>\n",
       "    <tr>\n",
       "      <th>6151</th>\n",
       "      <td>USD</td>\n",
       "      <td>1369.0</td>\n",
       "    </tr>\n",
       "    <tr>\n",
       "      <th>6152</th>\n",
       "      <td>USD</td>\n",
       "      <td>3050.0</td>\n",
       "    </tr>\n",
       "    <tr>\n",
       "      <th>6153</th>\n",
       "      <td>USD</td>\n",
       "      <td>575.0</td>\n",
       "    </tr>\n",
       "    <tr>\n",
       "      <th>6154</th>\n",
       "      <td>USD</td>\n",
       "      <td>59.0</td>\n",
       "    </tr>\n",
       "    <tr>\n",
       "      <th>6155</th>\n",
       "      <td>USD</td>\n",
       "      <td>272.0</td>\n",
       "    </tr>\n",
       "    <tr>\n",
       "      <th>6156</th>\n",
       "      <td>USD</td>\n",
       "      <td>41533.0</td>\n",
       "    </tr>\n",
       "    <tr>\n",
       "      <th>6157</th>\n",
       "      <td>USD</td>\n",
       "      <td>3010.0</td>\n",
       "    </tr>\n",
       "    <tr>\n",
       "      <th>6158</th>\n",
       "      <td>USD</td>\n",
       "      <td>5142.0</td>\n",
       "    </tr>\n",
       "  </tbody>\n",
       "</table>\n",
       "<p>6159 rows × 2 columns</p>\n",
       "</div>"
      ],
      "text/plain": [
       "     quote_currency   balance\n",
       "0               USD      18.0\n",
       "1               USD  627979.0\n",
       "2               USD     378.0\n",
       "3               USD   16667.0\n",
       "4               USD     171.0\n",
       "5               USD      17.0\n",
       "6               USD    6398.0\n",
       "7               USD     801.0\n",
       "8               USD   10686.0\n",
       "9               USD    1421.0\n",
       "10              USD  548823.0\n",
       "11              USD     950.0\n",
       "12              USD     162.0\n",
       "13              USD    6430.0\n",
       "14              USD   19743.0\n",
       "15              USD       4.0\n",
       "16              USD    1712.0\n",
       "17              USD       7.0\n",
       "18              USD    8519.0\n",
       "19              USD    1396.0\n",
       "20              USD      58.0\n",
       "21              USD   15301.0\n",
       "22              USD     117.0\n",
       "23              USD      88.0\n",
       "24              USD    1345.0\n",
       "25              USD      29.0\n",
       "26              USD      41.0\n",
       "27              USD   32198.0\n",
       "28              USD      12.0\n",
       "29              USD      63.0\n",
       "...             ...       ...\n",
       "6129            USD    6036.0\n",
       "6130            USD   12365.0\n",
       "6131            USD     902.0\n",
       "6132            USD     142.0\n",
       "6133            USD      60.0\n",
       "6134            USD       0.0\n",
       "6135            USD    4168.0\n",
       "6136            USD    2453.0\n",
       "6137            USD    7977.0\n",
       "6138            USD       0.0\n",
       "6139            USD     424.0\n",
       "6140            USD     160.0\n",
       "6141            USD      15.0\n",
       "6142            USD   15837.0\n",
       "6143            USD   27422.0\n",
       "6144            USD      13.0\n",
       "6145            USD   22933.0\n",
       "6146            USD   14236.0\n",
       "6147            USD      76.0\n",
       "6148            USD    2842.0\n",
       "6149            USD   18831.0\n",
       "6150            USD   20093.0\n",
       "6151            USD    1369.0\n",
       "6152            USD    3050.0\n",
       "6153            USD     575.0\n",
       "6154            USD      59.0\n",
       "6155            USD     272.0\n",
       "6156            USD   41533.0\n",
       "6157            USD    3010.0\n",
       "6158            USD    5142.0\n",
       "\n",
       "[6159 rows x 2 columns]"
      ]
     },
     "execution_count": 17,
     "metadata": {},
     "output_type": "execute_result"
    }
   ],
   "source": [
    "df_dollar_balance"
   ]
  },
  {
   "cell_type": "code",
   "execution_count": 18,
   "metadata": {},
   "outputs": [
    {
     "data": {
      "image/png": "[encoded data removed]",
      "text/plain": [
       "<Figure size 1440x720 with 1 Axes>"
      ]
     },
     "metadata": {
      "needs_background": "light"
     },
     "output_type": "display_data"
    }
   ],
   "source": [
    "figure = plt.figure(figsize = [20,10])\n",
    "sns.ecdfplot(data=df_dollar_balance, x=\"balance\" , stat='proportion')\n",
    "plt.xlim(-1000,1e5)\n",
    "plt.ylabel('dollar balance')\n",
    "plt.show()"
   ]
  },
  {
   "cell_type": "code",
   "execution_count": 19,
   "metadata": {},
   "outputs": [
    {
     "data": {
      "text/plain": [
       "count    6.159000e+03\n",
       "mean     1.037648e+05\n",
       "std      4.855304e+06\n",
       "min      0.000000e+00\n",
       "25%      7.200000e+01\n",
       "50%      5.500000e+02\n",
       "75%      4.426500e+03\n",
       "max      3.772812e+08\n",
       "Name: balance, dtype: float64"
      ]
     },
     "execution_count": 19,
     "metadata": {},
     "output_type": "execute_result"
    }
   ],
   "source": [
    "df_dollar_balance['balance'].describe()"
   ]
  },
  {
   "cell_type": "code",
   "execution_count": 20,
   "metadata": {},
   "outputs": [
    {
     "data": {
      "text/plain": [
       "4.82"
      ]
     },
     "execution_count": 20,
     "metadata": {},
     "output_type": "execute_result"
    }
   ],
   "source": [
    "np.round(100*df_balance[df_dollar_balance['balance']==0].shape[0]/df_dollar_balance.shape[0],2)"
   ]
  },
  {
   "cell_type": "code",
   "execution_count": 21,
   "metadata": {},
   "outputs": [
    {
     "data": {
      "text/plain": [
       "24579.399999999972"
      ]
     },
     "execution_count": 21,
     "metadata": {},
     "output_type": "execute_result"
    }
   ],
   "source": [
    "df_dollar_balance['balance'].quantile(0.9)"
   ]
  },
  {
   "cell_type": "code",
   "execution_count": 22,
   "metadata": {},
   "outputs": [
    {
     "data": {
      "text/plain": [
       "7328.200000000002"
      ]
     },
     "execution_count": 22,
     "metadata": {},
     "output_type": "execute_result"
    }
   ],
   "source": [
    "df_dollar_balance['balance'].quantile(0.8)"
   ]
  },
  {
   "cell_type": "code",
   "execution_count": 23,
   "metadata": {},
   "outputs": [
    {
     "data": {
      "text/plain": [
       "550.0"
      ]
     },
     "execution_count": 23,
     "metadata": {},
     "output_type": "execute_result"
    }
   ],
   "source": [
    "df_dollar_balance['balance'].quantile(.5)"
   ]
  },
  {
   "cell_type": "code",
   "execution_count": 24,
   "metadata": {},
   "outputs": [],
   "source": [
    "df_dollar_balance_with_wallet=pd.DataFrame()\n",
    "df_dollar_balance_with_wallet['quote_currency']  =np.nan\n",
    "df_dollar_balance_with_wallet['balance'] = np.nan\n",
    "df_dollar_balance_with_wallet['address'] = np.nan\n",
    "for ll in range(df_res.shape[0]):\n",
    "    quote_currency =df_res['quote_currency'].iloc[ll]\n",
    "    balance = []\n",
    "    for cc in df_res['items'].iloc[ll]:\n",
    "        balance.append( int(cc['quote']))\n",
    "    dollar_balance = sum(balance)\n",
    "    df_dollar_balance_with_wallet.loc[ll] = [df_res['address'].iloc[ll],quote_currency,dollar_balance]"
   ]
  },
  {
   "cell_type": "code",
   "execution_count": 25,
   "metadata": {},
   "outputs": [
    {
     "data": {
      "text/html": [
       "<div>\n",
       "<style scoped>\n",
       "    .dataframe tbody tr th:only-of-type {\n",
       "        vertical-align: middle;\n",
       "    }\n",
       "\n",
       "    .dataframe tbody tr th {\n",
       "        vertical-align: top;\n",
       "    }\n",
       "\n",
       "    .dataframe thead th {\n",
       "        text-align: right;\n",
       "    }\n",
       "</style>\n",
       "<table border=\"1\" class=\"dataframe\">\n",
       "  <thead>\n",
       "    <tr style=\"text-align: right;\">\n",
       "      <th></th>\n",
       "      <th>quote_currency</th>\n",
       "      <th>balance</th>\n",
       "      <th>address</th>\n",
       "    </tr>\n",
       "  </thead>\n",
       "  <tbody>\n",
       "    <tr>\n",
       "      <th>1317</th>\n",
       "      <td>0x912190dcb9dbd95106f3859e1d08ef290084d690</td>\n",
       "      <td>USD</td>\n",
       "      <td>550.0</td>\n",
       "    </tr>\n",
       "    <tr>\n",
       "      <th>1539</th>\n",
       "      <td>0xb1b16fa796ccc526c80241776ee9b972184d0028</td>\n",
       "      <td>USD</td>\n",
       "      <td>550.0</td>\n",
       "    </tr>\n",
       "  </tbody>\n",
       "</table>\n",
       "</div>"
      ],
      "text/plain": [
       "                                  quote_currency balance  address\n",
       "1317  0x912190dcb9dbd95106f3859e1d08ef290084d690     USD    550.0\n",
       "1539  0xb1b16fa796ccc526c80241776ee9b972184d0028     USD    550.0"
      ]
     },
     "execution_count": 25,
     "metadata": {},
     "output_type": "execute_result"
    }
   ],
   "source": [
    "df_dollar_balance_with_wallet[ df_dollar_balance_with_wallet.address ==  df_dollar_balance_with_wallet['address'].quantile(.5)]"
   ]
  }
 ],
 "metadata": {
  "kernelspec": {
   "display_name": "Python 3",
   "language": "python",
   "name": "python3"
  },
  "language_info": {
   "codemirror_mode": {
    "name": "ipython",
    "version": 3
   },
   "file_extension": ".py",
   "mimetype": "text/x-python",
   "name": "python",
   "nbconvert_exporter": "python",
   "pygments_lexer": "ipython3",
   "version": "3.7.3"
  }
 },
 "nbformat": 4,
 "nbformat_minor": 2
}
