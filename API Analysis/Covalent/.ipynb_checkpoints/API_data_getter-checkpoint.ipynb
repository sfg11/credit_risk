{
 "cells": [
  {
   "cell_type": "code",
   "execution_count": 1,
   "metadata": {},
   "outputs": [],
   "source": [
    "import requests\n",
    "import pandas as pd\n",
    "import json\n",
    "from pyhocon import ConfigFactory\n",
    "import os\n",
    "import time\n",
    "import numpy as np"
   ]
  },
  {
   "cell_type": "code",
   "execution_count": 2,
   "metadata": {},
   "outputs": [
    {
     "ename": "FileNotFoundError",
     "evalue": "[Errno 2] No such file or directory: 'API_Keys.conf'",
     "output_type": "error",
     "traceback": [
      "\u001b[0;31m---------------------------------------------------------------------------\u001b[0m",
      "\u001b[0;31mFileNotFoundError\u001b[0m                         Traceback (most recent call last)",
      "\u001b[0;32m<ipython-input-2-b3619168da03>\u001b[0m in \u001b[0;36m<module>\u001b[0;34m\u001b[0m\n\u001b[0;32m----> 1\u001b[0;31m \u001b[0mconf\u001b[0m \u001b[0;34m=\u001b[0m \u001b[0mConfigFactory\u001b[0m\u001b[0;34m.\u001b[0m\u001b[0mparse_file\u001b[0m\u001b[0;34m(\u001b[0m\u001b[0;34m'API_Keys.conf'\u001b[0m\u001b[0;34m)\u001b[0m\u001b[0;34m\u001b[0m\u001b[0;34m\u001b[0m\u001b[0m\n\u001b[0m\u001b[1;32m      2\u001b[0m \u001b[0mkey\u001b[0m \u001b[0;34m=\u001b[0m \u001b[0mconf\u001b[0m\u001b[0;34m.\u001b[0m\u001b[0mget_string\u001b[0m\u001b[0;34m(\u001b[0m\u001b[0;34m'API.covalent.key'\u001b[0m\u001b[0;34m)\u001b[0m\u001b[0;34m\u001b[0m\u001b[0;34m\u001b[0m\u001b[0m\n",
      "\u001b[0;32m~/opt/anaconda3/lib/python3.8/site-packages/pyhocon/config_parser.py\u001b[0m in \u001b[0;36mparse_file\u001b[0;34m(cls, filename, encoding, required, resolve, unresolved_value)\u001b[0m\n\u001b[1;32m    132\u001b[0m         \u001b[0;32mexcept\u001b[0m \u001b[0mIOError\u001b[0m \u001b[0;32mas\u001b[0m \u001b[0me\u001b[0m\u001b[0;34m:\u001b[0m\u001b[0;34m\u001b[0m\u001b[0;34m\u001b[0m\u001b[0m\n\u001b[1;32m    133\u001b[0m             \u001b[0;32mif\u001b[0m \u001b[0mrequired\u001b[0m\u001b[0;34m:\u001b[0m\u001b[0;34m\u001b[0m\u001b[0;34m\u001b[0m\u001b[0m\n\u001b[0;32m--> 134\u001b[0;31m                 \u001b[0;32mraise\u001b[0m \u001b[0me\u001b[0m\u001b[0;34m\u001b[0m\u001b[0;34m\u001b[0m\u001b[0m\n\u001b[0m\u001b[1;32m    135\u001b[0m             \u001b[0mlogger\u001b[0m\u001b[0;34m.\u001b[0m\u001b[0mwarn\u001b[0m\u001b[0;34m(\u001b[0m\u001b[0;34m'Cannot include file %s. File does not exist or cannot be read.'\u001b[0m\u001b[0;34m,\u001b[0m \u001b[0mfilename\u001b[0m\u001b[0;34m)\u001b[0m\u001b[0;34m\u001b[0m\u001b[0;34m\u001b[0m\u001b[0m\n\u001b[1;32m    136\u001b[0m             \u001b[0;32mreturn\u001b[0m \u001b[0;34m[\u001b[0m\u001b[0;34m]\u001b[0m\u001b[0;34m\u001b[0m\u001b[0;34m\u001b[0m\u001b[0m\n",
      "\u001b[0;32m~/opt/anaconda3/lib/python3.8/site-packages/pyhocon/config_parser.py\u001b[0m in \u001b[0;36mparse_file\u001b[0;34m(cls, filename, encoding, required, resolve, unresolved_value)\u001b[0m\n\u001b[1;32m    127\u001b[0m         \"\"\"\n\u001b[1;32m    128\u001b[0m         \u001b[0;32mtry\u001b[0m\u001b[0;34m:\u001b[0m\u001b[0;34m\u001b[0m\u001b[0;34m\u001b[0m\u001b[0m\n\u001b[0;32m--> 129\u001b[0;31m             \u001b[0;32mwith\u001b[0m \u001b[0mcodecs\u001b[0m\u001b[0;34m.\u001b[0m\u001b[0mopen\u001b[0m\u001b[0;34m(\u001b[0m\u001b[0mfilename\u001b[0m\u001b[0;34m,\u001b[0m \u001b[0;34m'r'\u001b[0m\u001b[0;34m,\u001b[0m \u001b[0mencoding\u001b[0m\u001b[0;34m=\u001b[0m\u001b[0mencoding\u001b[0m\u001b[0;34m)\u001b[0m \u001b[0;32mas\u001b[0m \u001b[0mfd\u001b[0m\u001b[0;34m:\u001b[0m\u001b[0;34m\u001b[0m\u001b[0;34m\u001b[0m\u001b[0m\n\u001b[0m\u001b[1;32m    130\u001b[0m                 \u001b[0mcontent\u001b[0m \u001b[0;34m=\u001b[0m \u001b[0mfd\u001b[0m\u001b[0;34m.\u001b[0m\u001b[0mread\u001b[0m\u001b[0;34m(\u001b[0m\u001b[0;34m)\u001b[0m\u001b[0;34m\u001b[0m\u001b[0;34m\u001b[0m\u001b[0m\n\u001b[1;32m    131\u001b[0m                 \u001b[0;32mreturn\u001b[0m \u001b[0mcls\u001b[0m\u001b[0;34m.\u001b[0m\u001b[0mparse_string\u001b[0m\u001b[0;34m(\u001b[0m\u001b[0mcontent\u001b[0m\u001b[0;34m,\u001b[0m \u001b[0mos\u001b[0m\u001b[0;34m.\u001b[0m\u001b[0mpath\u001b[0m\u001b[0;34m.\u001b[0m\u001b[0mdirname\u001b[0m\u001b[0;34m(\u001b[0m\u001b[0mfilename\u001b[0m\u001b[0;34m)\u001b[0m\u001b[0;34m,\u001b[0m \u001b[0mresolve\u001b[0m\u001b[0;34m,\u001b[0m \u001b[0munresolved_value\u001b[0m\u001b[0;34m)\u001b[0m\u001b[0;34m\u001b[0m\u001b[0;34m\u001b[0m\u001b[0m\n",
      "\u001b[0;32m~/opt/anaconda3/lib/python3.8/codecs.py\u001b[0m in \u001b[0;36mopen\u001b[0;34m(filename, mode, encoding, errors, buffering)\u001b[0m\n\u001b[1;32m    903\u001b[0m         \u001b[0;31m# Force opening of the file in binary mode\u001b[0m\u001b[0;34m\u001b[0m\u001b[0;34m\u001b[0m\u001b[0;34m\u001b[0m\u001b[0m\n\u001b[1;32m    904\u001b[0m         \u001b[0mmode\u001b[0m \u001b[0;34m=\u001b[0m \u001b[0mmode\u001b[0m \u001b[0;34m+\u001b[0m \u001b[0;34m'b'\u001b[0m\u001b[0;34m\u001b[0m\u001b[0;34m\u001b[0m\u001b[0m\n\u001b[0;32m--> 905\u001b[0;31m     \u001b[0mfile\u001b[0m \u001b[0;34m=\u001b[0m \u001b[0mbuiltins\u001b[0m\u001b[0;34m.\u001b[0m\u001b[0mopen\u001b[0m\u001b[0;34m(\u001b[0m\u001b[0mfilename\u001b[0m\u001b[0;34m,\u001b[0m \u001b[0mmode\u001b[0m\u001b[0;34m,\u001b[0m \u001b[0mbuffering\u001b[0m\u001b[0;34m)\u001b[0m\u001b[0;34m\u001b[0m\u001b[0;34m\u001b[0m\u001b[0m\n\u001b[0m\u001b[1;32m    906\u001b[0m     \u001b[0;32mif\u001b[0m \u001b[0mencoding\u001b[0m \u001b[0;32mis\u001b[0m \u001b[0;32mNone\u001b[0m\u001b[0;34m:\u001b[0m\u001b[0;34m\u001b[0m\u001b[0;34m\u001b[0m\u001b[0m\n\u001b[1;32m    907\u001b[0m         \u001b[0;32mreturn\u001b[0m \u001b[0mfile\u001b[0m\u001b[0;34m\u001b[0m\u001b[0;34m\u001b[0m\u001b[0m\n",
      "\u001b[0;31mFileNotFoundError\u001b[0m: [Errno 2] No such file or directory: 'API_Keys.conf'"
     ]
    }
   ],
   "source": [
    "conf = ConfigFactory.parse_file('API_Keys.conf')\n",
    "key = conf.get_string('API.covalent.key')"
   ]
  },
  {
   "cell_type": "code",
   "execution_count": 3,
   "metadata": {},
   "outputs": [],
   "source": [
    "#wallet parquet file path\n",
    "pths = r'D:\\Teller_Finance\\wallet_info_from_covalent\\wallet_raw_df.parquet.gzip'"
   ]
  },
  {
   "cell_type": "code",
   "execution_count": 13,
   "metadata": {},
   "outputs": [],
   "source": [
    "#read all wallet data\n",
    "df_wallet=pd.read_parquet(pths)\n",
    "\n",
    "#get address\n",
    "wallet_address=df_wallet['address'].values"
   ]
  },
  {
   "cell_type": "code",
   "execution_count": 15,
   "metadata": {},
   "outputs": [],
   "source": [
    "def create_api_string(api, input_dict=None):\n",
    "    try:\n",
    "        return api.format(**input_dict)\n",
    "    except:\n",
    "        print('Failed to Create Api String')\n",
    "\n",
    "def secs():\n",
    "    return np.random.randint(1,5)"
   ]
  },
  {
   "cell_type": "code",
   "execution_count": 30,
   "metadata": {},
   "outputs": [],
   "source": [
    "class api_data_getter:\n",
    "    \n",
    "    def __init__(self,**kwargs):\n",
    "        self.kwargs = kwargs\n",
    "        \n",
    "    \n",
    "    def covalent_api(self):\n",
    "        '''\n",
    "        Returns the sum of two decimal numbers in binary digits.\n",
    "\n",
    "                Parameters:\n",
    "                        wallet_address_list (list): list of wallets\n",
    "                        blockchain_data (str): e.g. balances_v2\n",
    "                        params (dict) : params={\"limit\":\"100\", \"key\":key } key is necessary\n",
    "                        number_of_wallets (int) : the number of wallets to loop through default is the full wallet_address_list\n",
    "                        api_string (str) : api string e.g. \"https://api.covalenthq.com/v1/1/address/{address}/{blockchain_data}/\"\n",
    "\n",
    "                Returns:\n",
    "                        api dataframe output for the requested blockchain_data\n",
    "        '''\n",
    "        \n",
    "        wallet_address = self.kwargs.get('wallet_address_list')\n",
    "        blockchain_data = self.kwargs.get('blockchain_data') #balances_v2\n",
    "        params = self.kwargs.get('params') \n",
    "        if self.kwargs.get('number_of_wallets'):\n",
    "            n = self.kwargs.get('number_of_wallets')\n",
    "        else:\n",
    "            n= len(wallet_address)# use all wallets\n",
    "        \n",
    "        if self.kwargs.get('api_string'):\n",
    "            api_string = self.kwargs.get('api_string') #params={\"limit\":\"100\", \"key\":key }\n",
    "        else:\n",
    "            #some defualt for now\n",
    "            api_string = \"https://api.covalenthq.com/v1/1/address/{address}/{blockchain_data}/\"\n",
    "            \n",
    "        \n",
    "        #loop through individual wallets and get data\n",
    "        df_res= pd.DataFrame()\n",
    "        for addr in wallet_address[0:n]:\n",
    "            time.sleep(secs())\n",
    "            input_dict = {\"address\":addr, \"blockchain_data\" :blockchain_data}\n",
    "            api_= create_api_string(api_string,input_dict)\n",
    "            r = requests.get(api_ ,params = params)\n",
    "            print('status of the api request is...')\n",
    "            print(r)\n",
    "            print('\\n')\n",
    "            df = pd.read_json(r.content,orient='index').reset_index().rename(columns={'index':'server_output'})\n",
    "            df = df.loc[ df['server_output'] == 'data'] # get the data component as opposed to error\n",
    "            df_res = df_res.append(df)\n",
    "        self.df_res = df_res\n",
    "        return self\n",
    "    \n",
    "    def save_to_parquet(self,file_name):\n",
    "        self.df_res.to_parquet(file_name + '.gzip' ,compression='gzip')"
   ]
  },
  {
   "cell_type": "code",
   "execution_count": 31,
   "metadata": {},
   "outputs": [
    {
     "name": "stdout",
     "output_type": "stream",
     "text": [
      "status of the api request is...\n",
      "<Response [200]>\n",
      "\n",
      "\n",
      "status of the api request is...\n",
      "<Response [200]>\n",
      "\n",
      "\n",
      "status of the api request is...\n",
      "<Response [200]>\n",
      "\n",
      "\n",
      "status of the api request is...\n",
      "<Response [200]>\n",
      "\n",
      "\n",
      "status of the api request is...\n",
      "<Response [200]>\n",
      "\n",
      "\n"
     ]
    }
   ],
   "source": [
    "#example run\n",
    "params = {\"limit\":\"100\", \"key\":key }\n",
    "input_dict= {'wallet_address_list':wallet_address,'blockchain_data':'balances_v2','params':params,'number_of_wallets':5,'api_string':\"https://api.covalenthq.com/v1/1/address/{address}/{blockchain_data}/\"}\n",
    "adg = api_data_getter(**input_dict)\n",
    "adg.covalent_api()\n",
    "adg.save_to_parquet('test_file')"
   ]
  },
  {
   "cell_type": "code",
   "execution_count": 32,
   "metadata": {},
   "outputs": [
    {
     "data": {
      "text/html": [
       "<div>\n",
       "<style scoped>\n",
       "    .dataframe tbody tr th:only-of-type {\n",
       "        vertical-align: middle;\n",
       "    }\n",
       "\n",
       "    .dataframe tbody tr th {\n",
       "        vertical-align: top;\n",
       "    }\n",
       "\n",
       "    .dataframe thead th {\n",
       "        text-align: right;\n",
       "    }\n",
       "</style>\n",
       "<table border=\"1\" class=\"dataframe\">\n",
       "  <thead>\n",
       "    <tr style=\"text-align: right;\">\n",
       "      <th></th>\n",
       "      <th>server_output</th>\n",
       "      <th>address</th>\n",
       "      <th>chain_id</th>\n",
       "      <th>items</th>\n",
       "      <th>next_update_at</th>\n",
       "      <th>pagination</th>\n",
       "      <th>quote_currency</th>\n",
       "      <th>updated_at</th>\n",
       "    </tr>\n",
       "  </thead>\n",
       "  <tbody>\n",
       "    <tr>\n",
       "      <th>0</th>\n",
       "      <td>data</td>\n",
       "      <td>0xa00b296408521c71a240c58c7909fde265921c45</td>\n",
       "      <td>1.0</td>\n",
       "      <td>[{'balance': '7120182209304508', 'contract_add...</td>\n",
       "      <td>2021-05-28T05:55:25.432742520Z</td>\n",
       "      <td>NaN</td>\n",
       "      <td>USD</td>\n",
       "      <td>2021-05-28T05:50:25.432742160Z</td>\n",
       "    </tr>\n",
       "    <tr>\n",
       "      <th>0</th>\n",
       "      <td>data</td>\n",
       "      <td>0xedfe9173e0a93fd0e4e1653f5d26b0e8548e80db</td>\n",
       "      <td>1.0</td>\n",
       "      <td>[{'balance': '162535028547844993816', 'contrac...</td>\n",
       "      <td>2021-05-28T05:55:29.845145343Z</td>\n",
       "      <td>NaN</td>\n",
       "      <td>USD</td>\n",
       "      <td>2021-05-28T05:50:29.845145003Z</td>\n",
       "    </tr>\n",
       "    <tr>\n",
       "      <th>0</th>\n",
       "      <td>data</td>\n",
       "      <td>0xfa760444a229e78a50ca9b3779f4ce4cce10e170</td>\n",
       "      <td>1.0</td>\n",
       "      <td>[{'balance': '147700331439528937', 'contract_a...</td>\n",
       "      <td>2021-05-28T05:55:33.240383703Z</td>\n",
       "      <td>NaN</td>\n",
       "      <td>USD</td>\n",
       "      <td>2021-05-28T05:50:33.240383553Z</td>\n",
       "    </tr>\n",
       "    <tr>\n",
       "      <th>0</th>\n",
       "      <td>data</td>\n",
       "      <td>0x49d56c2020caae817c3b493b00e5c6dec02f140c</td>\n",
       "      <td>1.0</td>\n",
       "      <td>[{'balance': '3637885470000000000000', 'contra...</td>\n",
       "      <td>2021-05-28T05:55:34.864951834Z</td>\n",
       "      <td>NaN</td>\n",
       "      <td>USD</td>\n",
       "      <td>2021-05-28T05:50:34.864951335Z</td>\n",
       "    </tr>\n",
       "    <tr>\n",
       "      <th>0</th>\n",
       "      <td>data</td>\n",
       "      <td>0x45eb39a39c970ce4278fb8541bf0e3d91527e495</td>\n",
       "      <td>1.0</td>\n",
       "      <td>[{'balance': '33270985135767694', 'contract_ad...</td>\n",
       "      <td>2021-05-28T05:55:38.253842076Z</td>\n",
       "      <td>NaN</td>\n",
       "      <td>USD</td>\n",
       "      <td>2021-05-28T05:50:38.253841714Z</td>\n",
       "    </tr>\n",
       "  </tbody>\n",
       "</table>\n",
       "</div>"
      ],
      "text/plain": [
       "  server_output                                     address  chain_id  \\\n",
       "0          data  0xa00b296408521c71a240c58c7909fde265921c45       1.0   \n",
       "0          data  0xedfe9173e0a93fd0e4e1653f5d26b0e8548e80db       1.0   \n",
       "0          data  0xfa760444a229e78a50ca9b3779f4ce4cce10e170       1.0   \n",
       "0          data  0x49d56c2020caae817c3b493b00e5c6dec02f140c       1.0   \n",
       "0          data  0x45eb39a39c970ce4278fb8541bf0e3d91527e495       1.0   \n",
       "\n",
       "                                               items  \\\n",
       "0  [{'balance': '7120182209304508', 'contract_add...   \n",
       "0  [{'balance': '162535028547844993816', 'contrac...   \n",
       "0  [{'balance': '147700331439528937', 'contract_a...   \n",
       "0  [{'balance': '3637885470000000000000', 'contra...   \n",
       "0  [{'balance': '33270985135767694', 'contract_ad...   \n",
       "\n",
       "                   next_update_at  pagination quote_currency  \\\n",
       "0  2021-05-28T05:55:25.432742520Z         NaN            USD   \n",
       "0  2021-05-28T05:55:29.845145343Z         NaN            USD   \n",
       "0  2021-05-28T05:55:33.240383703Z         NaN            USD   \n",
       "0  2021-05-28T05:55:34.864951834Z         NaN            USD   \n",
       "0  2021-05-28T05:55:38.253842076Z         NaN            USD   \n",
       "\n",
       "                       updated_at  \n",
       "0  2021-05-28T05:50:25.432742160Z  \n",
       "0  2021-05-28T05:50:29.845145003Z  \n",
       "0  2021-05-28T05:50:33.240383553Z  \n",
       "0  2021-05-28T05:50:34.864951335Z  \n",
       "0  2021-05-28T05:50:38.253841714Z  "
      ]
     },
     "execution_count": 32,
     "metadata": {},
     "output_type": "execute_result"
    }
   ],
   "source": [
    "f = pd.read_parquet('test_file.gzip')"
   ]
  },
  {
   "cell_type": "code",
   "execution_count": 33,
   "metadata": {},
   "outputs": [
    {
     "name": "stdout",
     "output_type": "stream",
     "text": [
      "\n",
      "        Returns the sum of two decimal numbers in binary digits.\n",
      "\n",
      "                Parameters:\n",
      "                        wallet_address_list (list): list of wallets\n",
      "                        blockchain_data (str): e.g. balances_v2\n",
      "                        params (dict) : params={\"limit\":\"100\", \"key\":key } key is necessary\n",
      "                        number_of_wallets (int) : the number of wallets to loop through default is the full wallet_address_list\n",
      "                        api_string (str) : api string e.g. \"https://api.covalenthq.com/v1/1/address/{address}/{blockchain_data}/\"\n",
      "\n",
      "                Returns:\n",
      "                        api dataframe output for the requested blockchain_data\n",
      "        \n"
     ]
    }
   ],
   "source": [
    "print(adg.covalent_api.__doc__)"
   ]
  },
  {
   "cell_type": "code",
   "execution_count": null,
   "metadata": {},
   "outputs": [],
   "source": []
  }
 ],
 "metadata": {
  "kernelspec": {
   "display_name": "Python 3",
   "language": "python",
   "name": "python3"
  },
  "language_info": {
   "codemirror_mode": {
    "name": "ipython",
    "version": 3
   },
   "file_extension": ".py",
   "mimetype": "text/x-python",
   "name": "python",
   "nbconvert_exporter": "python",
   "pygments_lexer": "ipython3",
   "version": "3.8.5"
  }
 },
 "nbformat": 4,
 "nbformat_minor": 2
}
