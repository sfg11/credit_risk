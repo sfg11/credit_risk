{
 "cells": [
  {
   "cell_type": "code",
   "execution_count": 1,
   "metadata": {},
   "outputs": [],
   "source": [
    "import requests\n",
    "import pandas as pd\n",
    "import json\n",
    "from pyhocon import ConfigFactory\n",
    "import os\n",
    "import time\n",
    "import numpy as np"
   ]
  },
  {
   "cell_type": "code",
   "execution_count": 2,
   "metadata": {},
   "outputs": [],
   "source": [
    "conf = ConfigFactory.parse_file('API_Keys.conf')\n",
    "key = conf.get_string('API.covalent.key')"
   ]
  },
  {
   "cell_type": "code",
   "execution_count": 3,
   "metadata": {},
   "outputs": [],
   "source": [
    "#wallet parquet file path\n",
    "pths = r'D:\\Teller_Finance\\wallet_info_from_covalent\\wallet_raw_df.parquet.gzip'"
   ]
  },
  {
   "cell_type": "code",
   "execution_count": 4,
   "metadata": {},
   "outputs": [],
   "source": [
    "#read all wallet data\n",
    "df_wallet=pd.read_parquet(pths)\n",
    "\n",
    "#get address\n",
    "wallet_address=df_wallet['address'].unique()"
   ]
  },
  {
   "cell_type": "code",
   "execution_count": 2,
   "metadata": {},
   "outputs": [],
   "source": [
    "def create_api_string(api, input_dict=None):\n",
    "    try:\n",
    "        return api.format(**input_dict)\n",
    "    except:\n",
    "        print('Failed to Create Api String')\n",
    "\n",
    "def secs():\n",
    "    return np.random.randint(1,5)"
   ]
  },
  {
   "cell_type": "code",
   "execution_count": 10,
   "metadata": {},
   "outputs": [],
   "source": [
    "class api_data_getter:\n",
    "    \n",
    "    def __init__(self,**kwargs):\n",
    "        self.kwargs = kwargs\n",
    "        \n",
    "    \n",
    "    def covalent_api(self):\n",
    "        '''\n",
    "                Parameters:\n",
    "                        wallet_address_list (list): list of wallets\n",
    "                        blockchain_data (str): e.g. balances_v2\n",
    "                        params (dict) : params={\"limit\":\"100\", \"key\":key } key is necessary\n",
    "                        number_of_wallets (int) : the number of wallets to loop through default is the full wallet_address_list\n",
    "                        api_string (str) : api string e.g. \"https://api.covalenthq.com/v1/1/address/{address}/{blockchain_data}/\"\n",
    "\n",
    "                Returns:\n",
    "                        api dataframe output for the requested blockchain_data\n",
    "        '''\n",
    "        \n",
    "        wallet_address = self.kwargs.get('wallet_address_list')\n",
    "        blockchain_data = self.kwargs.get('blockchain_data') #balances_v2\n",
    "        params = self.kwargs.get('params') \n",
    "        if self.kwargs.get('number_of_wallets'):\n",
    "            n = self.kwargs.get('number_of_wallets')\n",
    "        else:\n",
    "            n= len(wallet_address)# use all wallets\n",
    "        \n",
    "        if self.kwargs.get('api_string'):\n",
    "            api_string = self.kwargs.get('api_string') #params={\"limit\":\"100\", \"key\":key }\n",
    "        else:\n",
    "            #some defualt for now\n",
    "            api_string = \"https://api.covalenthq.com/v1/1/address/{address}/{blockchain_data}/\"\n",
    "            \n",
    "        \n",
    "        #loop through individual wallets and get data\n",
    "        df_res= pd.DataFrame()\n",
    "        for addr in wallet_address[0:n]:\n",
    "            time.sleep(secs())\n",
    "            input_dict = {\"address\":addr, \"blockchain_data\" :blockchain_data}\n",
    "            api_= create_api_string(api_string,input_dict)\n",
    "            r = requests.get(api_ ,params = params)\n",
    "            #print('status of the api request is...')\n",
    "            #print(r)\n",
    "            #print('\\n')\n",
    "            df = pd.read_json(r.content,orient='index').reset_index().rename(columns={'index':'server_output'})\n",
    "            df = df.loc[ df['server_output'] == 'data'] # get the data component as opposed to error\n",
    "            df_res = df_res.append(df)\n",
    "        self.df_res = df_res\n",
    "        return self\n",
    "    \n",
    "    \n",
    "    def thegraphql_api(self):\n",
    "        '''\n",
    "                Parameters:\n",
    "\n",
    "                Returns:\n",
    "                        api dataframe output for the requested blockchain_data\n",
    "        '''\n",
    "        \n",
    "        query = self.kwargs.get('query')\n",
    "        if self.kwargs.get('api_string'):\n",
    "            api_string = self.kwargs.get('api_string')\n",
    "        else:\n",
    "            api_string = \"https://api.thegraph.com/subgraphs/name/uniswap/uniswap-v2\"\n",
    "            \n",
    "        r = requests.post(api_string, json={'query': query})\n",
    "        df = pd.read_json(r.content,orient='index').reset_index().rename(columns={'index':'server_output'})\n",
    "        df = df.loc[ df['server_output'] == 'data'] # get the data component as opposed to error\n",
    "        self.df_res = df\n",
    "        return self\n",
    "        \n",
    "    \n",
    "    def save_to_parquet(self,file_name):\n",
    "        self.df_res = self.df_res.reset_index(drop=True)\n",
    "        self.df_res.to_parquet(file_name + '.gzip' ,compression='gzip')\n",
    "        \n",
    "    def save_to_json(self,file_name):\n",
    "        self.df_res = self.df_res.reset_index(drop=True)\n",
    "        self.df_res.to_json(file_name + '.json' ,compression='gzip')\n",
    "    "
   ]
  },
  {
   "cell_type": "code",
   "execution_count": 11,
   "metadata": {},
   "outputs": [],
   "source": [
    "#example run graphql\n",
    "query  = \"\"\"{\n",
    "  pairs {\n",
    "    id\n",
    "  }\n",
    "}\"\"\"\n",
    "\n",
    "input_dict= {'query':query,'api_string':\"https://api.thegraph.com/subgraphs/name/uniswap/uniswap-v2\"}\n",
    "\n",
    "adg = api_data_getter(**input_dict)\n",
    "adg.thegraphql_api()\n",
    "try:\n",
    "    adg.save_to_parquet('graphql')\n",
    "except:\n",
    "    adg.save_to_json('graphql')"
   ]
  },
  {
   "cell_type": "code",
   "execution_count": 7,
   "metadata": {},
   "outputs": [],
   "source": [
    "# #example run\n",
    "# params = {\"limit\":\"1000\", \"key\":key }\n",
    "# #input_dict= {'wallet_address_list':wallet_address,'blockchain_data':'balances_v2','params':params,'number_of_wallets':None,'api_string':\"https://api.covalenthq.com/v1/1/address/{address}/{blockchain_data}/\"}\n",
    "# input_dict= {'wallet_address_list':wallet_address,'blockchain_data':'transactions_v2','params':params,'number_of_wallets':1000,'api_string':\"https://api.covalenthq.com/v1/1/address/{address}/{blockchain_data}/\"}\n",
    "# adg = api_data_getter(**input_dict)\n",
    "# adg.covalent_api()\n",
    "# try:\n",
    "#     adg.save_to_parquet('transactions')\n",
    "# except:\n",
    "#     adg.save_to_json('transaction')"
   ]
  }
 ],
 "metadata": {
  "kernelspec": {
   "display_name": "'Python Interactive'",
   "language": "python",
   "name": "1bab88d0-3725-48c0-987f-efb07b0acb0e"
  },
  "language_info": {
   "codemirror_mode": {
    "name": "ipython",
    "version": 3
   },
   "file_extension": ".py",
   "mimetype": "text/x-python",
   "name": "python",
   "nbconvert_exporter": "python",
   "pygments_lexer": "ipython3",
   "version": "3.7.3"
  }
 },
 "nbformat": 4,
 "nbformat_minor": 2
}
