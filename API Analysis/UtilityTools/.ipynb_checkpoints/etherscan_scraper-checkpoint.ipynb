{
 "cells": [
  {
   "cell_type": "code",
   "execution_count": 248,
   "metadata": {},
   "outputs": [],
   "source": [
    "# Written by: Sason Torosean\n",
    "# 5/26/2021\n",
    "# scrapes wallet data out of etherscan\n",
    "\n",
    "import re\n",
    "import pandas as pd\n",
    "import numpy as np\n",
    "import time"
   ]
  },
  {
   "cell_type": "code",
   "execution_count": 249,
   "metadata": {},
   "outputs": [],
   "source": [
    "from selenium import webdriver\n",
    "from selenium.webdriver.common.keys import Keys"
   ]
  },
  {
   "cell_type": "code",
   "execution_count": 250,
   "metadata": {},
   "outputs": [],
   "source": [
    "#load driver\n",
    "pth_to_driver=r'D:\\Teller_Finance\\ChromeDriver\\chromedriver.exe'\n",
    "chrome_options = webdriver.ChromeOptions()\n",
    "chrome_options.add_argument('--no-sandbox')\n",
    "driver = webdriver.Chrome(pth_to_driver)"
   ]
  },
  {
   "cell_type": "code",
   "execution_count": 251,
   "metadata": {},
   "outputs": [],
   "source": [
    "#go to site \n",
    "def go_to_site(rows=None,pg=None):\n",
    "    site = \"https://etherscan.io/enslookup?ps={rows}&p={pg}\".format(**{'rows':rows,'pg':pg})\n",
    "    return site"
   ]
  },
  {
   "cell_type": "code",
   "execution_count": 252,
   "metadata": {},
   "outputs": [],
   "source": [
    "def get_comp(line,typ=None):\n",
    "\n",
    "    if typ == 'address':\n",
    "        tmp= re.findall('0x\\S+',line)\n",
    "        if len(tmp) > 1:\n",
    "            tmp = [tmp[0]] # to handle this ['0x42980e3e602178354e065723d9652bef79ae3673', '0x.eth']            \n",
    "    elif typ == 'ens':\n",
    "        tmp= re.findall(r'(\\S+[.]\\S+)',line)\n",
    "\n",
    "    else:\n",
    "        tmp = []\n",
    "\n",
    "    if tmp == []:\n",
    "        return [np.nan]\n",
    "    else:\n",
    "        return tmp\n",
    "\n",
    "def secs():\n",
    "    return np.random.randint(2,6)\n",
    "#loop through pages and fetch the data\n",
    "for rng in range(2):\n",
    "    site = go_to_site(100,rng)\n",
    "    driver.get(site)\n",
    "    #card-body class can change as the site changes \n",
    "    file = driver.find_element_by_class_name('card-body')\n",
    "    \n",
    "    time.sleep(secs())\n",
    "\n",
    "    wallet_info = {} #address, esn,\n",
    "    index = 0\n",
    "\n",
    "\n",
    "\n",
    "\n",
    "    for line in file.text.split('\\n'):\n",
    "        if wallet_info == {}:\n",
    "            wallet_info['index'] = [index]\n",
    "            wallet_info['address'] = get_comp(line,'address') #assuming all wallet addresses start with 0x\n",
    "            wallet_info['ens'] = get_comp(line, 'ens')\n",
    "            wallet_info['raw_string'] = [line]\n",
    "        else:\n",
    "\n",
    "            wallet_info['index'].append(wallet_info['index'][index] + 1)\n",
    "            wallet_info['address'].extend( get_comp(line,'address'))\n",
    "            wallet_info['ens'].extend( get_comp(line,'ens'))\n",
    "            wallet_info['raw_string'].append(line)\n",
    "            index = index + 1\n",
    "\n",
    "    df_res = pd.DataFrame.from_dict(wallet_info)\n",
    "    name= 'wallet_info_from_covalent'+ '\\\\' +'wallet_info_' +  str(rng) +'.gzip'\n",
    "    df_res.to_parquet(name, compression='gzip')"
   ]
  }
 ],
 "metadata": {
  "kernelspec": {
   "display_name": "Python 3",
   "language": "python",
   "name": "python3"
  },
  "language_info": {
   "codemirror_mode": {
    "name": "ipython",
    "version": 3
   },
   "file_extension": ".py",
   "mimetype": "text/x-python",
   "name": "python",
   "nbconvert_exporter": "python",
   "pygments_lexer": "ipython3",
   "version": "3.8.5"
  }
 },
 "nbformat": 4,
 "nbformat_minor": 2
}
