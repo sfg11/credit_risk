{
 "cells": [
  {
   "cell_type": "code",
   "execution_count": 2,
   "metadata": {},
   "outputs": [
    {
     "name": "stdout",
     "output_type": "stream",
     "text": [
      "Requirement already satisfied: plaid-python in /Library/Frameworks/Python.framework/Versions/3.9/lib/python3.9/site-packages (7.4.0)\n",
      "Requirement already satisfied: requests>=2.7.0 in /Library/Frameworks/Python.framework/Versions/3.9/lib/python3.9/site-packages (from plaid-python) (2.25.1)\n",
      "Requirement already satisfied: chardet<5,>=3.0.2 in /Library/Frameworks/Python.framework/Versions/3.9/lib/python3.9/site-packages (from requests>=2.7.0->plaid-python) (4.0.0)\n",
      "Requirement already satisfied: idna<3,>=2.5 in /Library/Frameworks/Python.framework/Versions/3.9/lib/python3.9/site-packages (from requests>=2.7.0->plaid-python) (2.10)\n",
      "Requirement already satisfied: certifi>=2017.4.17 in /Library/Frameworks/Python.framework/Versions/3.9/lib/python3.9/site-packages (from requests>=2.7.0->plaid-python) (2020.12.5)\n",
      "Requirement already satisfied: urllib3<1.27,>=1.21.1 in /Library/Frameworks/Python.framework/Versions/3.9/lib/python3.9/site-packages (from requests>=2.7.0->plaid-python) (1.26.4)\n",
      "Note: you may need to restart the kernel to use updated packages.\n"
     ]
    }
   ],
   "source": [
    "pip install plaid-python"
   ]
  },
  {
   "cell_type": "code",
   "execution_count": 3,
   "metadata": {},
   "outputs": [
    {
     "name": "stdout",
     "output_type": "stream",
     "text": [
      "Requirement already satisfied: pandas in /Library/Frameworks/Python.framework/Versions/3.9/lib/python3.9/site-packages (1.2.4)\n",
      "Requirement already satisfied: numpy>=1.16.5 in /Library/Frameworks/Python.framework/Versions/3.9/lib/python3.9/site-packages (from pandas) (1.20.3)\n",
      "Requirement already satisfied: python-dateutil>=2.7.3 in /Users/viper/Library/Python/3.9/lib/python/site-packages (from pandas) (2.8.1)\n",
      "Requirement already satisfied: pytz>=2017.3 in /Library/Frameworks/Python.framework/Versions/3.9/lib/python3.9/site-packages (from pandas) (2021.1)\n",
      "Requirement already satisfied: six>=1.5 in /Users/viper/Library/Python/3.9/lib/python/site-packages (from python-dateutil>=2.7.3->pandas) (1.16.0)\n",
      "Note: you may need to restart the kernel to use updated packages.\n"
     ]
    }
   ],
   "source": [
    "pip install pandas"
   ]
  },
  {
   "cell_type": "code",
   "execution_count": 1,
   "metadata": {},
   "outputs": [],
   "source": [
    "from plaid import Client\n",
    "\n",
    "# Available environments are 'sandbox', 'development', and 'production'.\n",
    "client = Client(client_id='5ed1586d4cc1b500133506f1', secret='2a349d7744bae947fc19dd97cf61f7', environment='sandbox')\n"
   ]
  },
  {
   "cell_type": "code",
   "execution_count": 2,
   "metadata": {},
   "outputs": [],
   "source": [
    "import pandas as pd"
   ]
  },
  {
   "cell_type": "code",
   "execution_count": 3,
   "metadata": {
    "scrolled": true
   },
   "outputs": [],
   "source": [
    "categories = client.Categories.get()"
   ]
  },
  {
   "cell_type": "code",
   "execution_count": 4,
   "metadata": {},
   "outputs": [],
   "source": [
    "actual = categories['categories'][0:]"
   ]
  },
  {
   "cell_type": "code",
   "execution_count": 5,
   "metadata": {},
   "outputs": [],
   "source": [
    "df = pd.DataFrame(columns = actual[0].keys())"
   ]
  },
  {
   "cell_type": "code",
   "execution_count": 6,
   "metadata": {
    "scrolled": true
   },
   "outputs": [
    {
     "data": {
      "text/html": [
       "<div>\n",
       "<style scoped>\n",
       "    .dataframe tbody tr th:only-of-type {\n",
       "        vertical-align: middle;\n",
       "    }\n",
       "\n",
       "    .dataframe tbody tr th {\n",
       "        vertical-align: top;\n",
       "    }\n",
       "\n",
       "    .dataframe thead th {\n",
       "        text-align: right;\n",
       "    }\n",
       "</style>\n",
       "<table border=\"1\" class=\"dataframe\">\n",
       "  <thead>\n",
       "    <tr style=\"text-align: right;\">\n",
       "      <th></th>\n",
       "      <th>category_id</th>\n",
       "      <th>group</th>\n",
       "      <th>hierarchy</th>\n",
       "    </tr>\n",
       "  </thead>\n",
       "  <tbody>\n",
       "  </tbody>\n",
       "</table>\n",
       "</div>"
      ],
      "text/plain": [
       "Empty DataFrame\n",
       "Columns: [category_id, group, hierarchy]\n",
       "Index: []"
      ]
     },
     "execution_count": 6,
     "metadata": {},
     "output_type": "execute_result"
    }
   ],
   "source": [
    "df"
   ]
  },
  {
   "cell_type": "code",
   "execution_count": 7,
   "metadata": {},
   "outputs": [],
   "source": [
    "data = []\n",
    "for i in range(0,len(actual)-1):\n",
    "    a,b,c = list(actual[i].values())[0:]\n",
    "    data.append([a,b,c])\n",
    "df = pd.DataFrame(data = data, columns=actual[0].keys())"
   ]
  },
  {
   "cell_type": "code",
   "execution_count": 8,
   "metadata": {},
   "outputs": [
    {
     "data": {
      "text/html": [
       "<div>\n",
       "<style scoped>\n",
       "    .dataframe tbody tr th:only-of-type {\n",
       "        vertical-align: middle;\n",
       "    }\n",
       "\n",
       "    .dataframe tbody tr th {\n",
       "        vertical-align: top;\n",
       "    }\n",
       "\n",
       "    .dataframe thead th {\n",
       "        text-align: right;\n",
       "    }\n",
       "</style>\n",
       "<table border=\"1\" class=\"dataframe\">\n",
       "  <thead>\n",
       "    <tr style=\"text-align: right;\">\n",
       "      <th></th>\n",
       "      <th>category_id</th>\n",
       "      <th>group</th>\n",
       "      <th>hierarchy</th>\n",
       "    </tr>\n",
       "  </thead>\n",
       "  <tbody>\n",
       "    <tr>\n",
       "      <th>0</th>\n",
       "      <td>10000000</td>\n",
       "      <td>special</td>\n",
       "      <td>[Bank Fees]</td>\n",
       "    </tr>\n",
       "    <tr>\n",
       "      <th>1</th>\n",
       "      <td>10001000</td>\n",
       "      <td>special</td>\n",
       "      <td>[Bank Fees, Overdraft]</td>\n",
       "    </tr>\n",
       "    <tr>\n",
       "      <th>2</th>\n",
       "      <td>10002000</td>\n",
       "      <td>special</td>\n",
       "      <td>[Bank Fees, ATM]</td>\n",
       "    </tr>\n",
       "    <tr>\n",
       "      <th>3</th>\n",
       "      <td>10003000</td>\n",
       "      <td>special</td>\n",
       "      <td>[Bank Fees, Late Payment]</td>\n",
       "    </tr>\n",
       "    <tr>\n",
       "      <th>4</th>\n",
       "      <td>10004000</td>\n",
       "      <td>special</td>\n",
       "      <td>[Bank Fees, Fraud Dispute]</td>\n",
       "    </tr>\n",
       "    <tr>\n",
       "      <th>...</th>\n",
       "      <td>...</td>\n",
       "      <td>...</td>\n",
       "      <td>...</td>\n",
       "    </tr>\n",
       "    <tr>\n",
       "      <th>596</th>\n",
       "      <td>22013000</td>\n",
       "      <td>place</td>\n",
       "      <td>[Travel, Parking]</td>\n",
       "    </tr>\n",
       "    <tr>\n",
       "      <th>597</th>\n",
       "      <td>22014000</td>\n",
       "      <td>place</td>\n",
       "      <td>[Travel, Public Transportation Services]</td>\n",
       "    </tr>\n",
       "    <tr>\n",
       "      <th>598</th>\n",
       "      <td>22015000</td>\n",
       "      <td>place</td>\n",
       "      <td>[Travel, Rail]</td>\n",
       "    </tr>\n",
       "    <tr>\n",
       "      <th>599</th>\n",
       "      <td>22016000</td>\n",
       "      <td>special</td>\n",
       "      <td>[Travel, Taxi]</td>\n",
       "    </tr>\n",
       "    <tr>\n",
       "      <th>600</th>\n",
       "      <td>22017000</td>\n",
       "      <td>special</td>\n",
       "      <td>[Travel, Tolls and Fees]</td>\n",
       "    </tr>\n",
       "  </tbody>\n",
       "</table>\n",
       "<p>601 rows × 3 columns</p>\n",
       "</div>"
      ],
      "text/plain": [
       "    category_id    group                                 hierarchy\n",
       "0      10000000  special                               [Bank Fees]\n",
       "1      10001000  special                    [Bank Fees, Overdraft]\n",
       "2      10002000  special                          [Bank Fees, ATM]\n",
       "3      10003000  special                 [Bank Fees, Late Payment]\n",
       "4      10004000  special                [Bank Fees, Fraud Dispute]\n",
       "..          ...      ...                                       ...\n",
       "596    22013000    place                         [Travel, Parking]\n",
       "597    22014000    place  [Travel, Public Transportation Services]\n",
       "598    22015000    place                            [Travel, Rail]\n",
       "599    22016000  special                            [Travel, Taxi]\n",
       "600    22017000  special                  [Travel, Tolls and Fees]\n",
       "\n",
       "[601 rows x 3 columns]"
      ]
     },
     "execution_count": 8,
     "metadata": {},
     "output_type": "execute_result"
    }
   ],
   "source": [
    "df"
   ]
  },
  {
   "cell_type": "code",
   "execution_count": 9,
   "metadata": {},
   "outputs": [
    {
     "ename": "ModuleNotFoundError",
     "evalue": "No module named 'openpyxl'",
     "output_type": "error",
     "traceback": [
      "\u001b[0;31m---------------------------------------------------------------------------\u001b[0m",
      "\u001b[0;31mModuleNotFoundError\u001b[0m                       Traceback (most recent call last)",
      "\u001b[0;32m<ipython-input-9-a4fe085e64b5>\u001b[0m in \u001b[0;36m<module>\u001b[0;34m\u001b[0m\n\u001b[0;32m----> 1\u001b[0;31m df.to_excel(\"category_types.xlsx\",\n\u001b[0m\u001b[1;32m      2\u001b[0m              sheet_name='Sheet_name_1') \n",
      "\u001b[0;32m/Library/Frameworks/Python.framework/Versions/3.9/lib/python3.9/site-packages/pandas/core/generic.py\u001b[0m in \u001b[0;36mto_excel\u001b[0;34m(self, excel_writer, sheet_name, na_rep, float_format, columns, header, index, index_label, startrow, startcol, engine, merge_cells, encoding, inf_rep, verbose, freeze_panes, storage_options)\u001b[0m\n\u001b[1;32m   2187\u001b[0m             \u001b[0minf_rep\u001b[0m\u001b[0;34m=\u001b[0m\u001b[0minf_rep\u001b[0m\u001b[0;34m,\u001b[0m\u001b[0;34m\u001b[0m\u001b[0;34m\u001b[0m\u001b[0m\n\u001b[1;32m   2188\u001b[0m         )\n\u001b[0;32m-> 2189\u001b[0;31m         formatter.write(\n\u001b[0m\u001b[1;32m   2190\u001b[0m             \u001b[0mexcel_writer\u001b[0m\u001b[0;34m,\u001b[0m\u001b[0;34m\u001b[0m\u001b[0;34m\u001b[0m\u001b[0m\n\u001b[1;32m   2191\u001b[0m             \u001b[0msheet_name\u001b[0m\u001b[0;34m=\u001b[0m\u001b[0msheet_name\u001b[0m\u001b[0;34m,\u001b[0m\u001b[0;34m\u001b[0m\u001b[0;34m\u001b[0m\u001b[0m\n",
      "\u001b[0;32m/Library/Frameworks/Python.framework/Versions/3.9/lib/python3.9/site-packages/pandas/io/formats/excel.py\u001b[0m in \u001b[0;36mwrite\u001b[0;34m(self, writer, sheet_name, startrow, startcol, freeze_panes, engine, storage_options)\u001b[0m\n\u001b[1;32m    813\u001b[0m             \u001b[0;31m# abstract class 'ExcelWriter' with abstract attributes 'engine',\u001b[0m\u001b[0;34m\u001b[0m\u001b[0;34m\u001b[0m\u001b[0;34m\u001b[0m\u001b[0m\n\u001b[1;32m    814\u001b[0m             \u001b[0;31m# 'save', 'supported_extensions' and 'write_cells'  [abstract]\u001b[0m\u001b[0;34m\u001b[0m\u001b[0;34m\u001b[0m\u001b[0;34m\u001b[0m\u001b[0m\n\u001b[0;32m--> 815\u001b[0;31m             writer = ExcelWriter(  # type: ignore[abstract]\n\u001b[0m\u001b[1;32m    816\u001b[0m                 \u001b[0mwriter\u001b[0m\u001b[0;34m,\u001b[0m \u001b[0mengine\u001b[0m\u001b[0;34m=\u001b[0m\u001b[0mengine\u001b[0m\u001b[0;34m,\u001b[0m \u001b[0mstorage_options\u001b[0m\u001b[0;34m=\u001b[0m\u001b[0mstorage_options\u001b[0m\u001b[0;34m\u001b[0m\u001b[0;34m\u001b[0m\u001b[0m\n\u001b[1;32m    817\u001b[0m             )\n",
      "\u001b[0;32m/Library/Frameworks/Python.framework/Versions/3.9/lib/python3.9/site-packages/pandas/io/excel/_openpyxl.py\u001b[0m in \u001b[0;36m__init__\u001b[0;34m(self, path, engine, mode, storage_options, **engine_kwargs)\u001b[0m\n\u001b[1;32m     28\u001b[0m     ):\n\u001b[1;32m     29\u001b[0m         \u001b[0;31m# Use the openpyxl module as the Excel writer.\u001b[0m\u001b[0;34m\u001b[0m\u001b[0;34m\u001b[0m\u001b[0;34m\u001b[0m\u001b[0m\n\u001b[0;32m---> 30\u001b[0;31m         \u001b[0;32mfrom\u001b[0m \u001b[0mopenpyxl\u001b[0m\u001b[0;34m.\u001b[0m\u001b[0mworkbook\u001b[0m \u001b[0;32mimport\u001b[0m \u001b[0mWorkbook\u001b[0m\u001b[0;34m\u001b[0m\u001b[0;34m\u001b[0m\u001b[0m\n\u001b[0m\u001b[1;32m     31\u001b[0m \u001b[0;34m\u001b[0m\u001b[0m\n\u001b[1;32m     32\u001b[0m         super().__init__(\n",
      "\u001b[0;31mModuleNotFoundError\u001b[0m: No module named 'openpyxl'"
     ]
    }
   ],
   "source": [
    "df.to_excel(\"category_types.xlsx\",\n",
    "             sheet_name='Sheet_name_1') "
   ]
  },
  {
   "cell_type": "code",
   "execution_count": 10,
   "metadata": {},
   "outputs": [
    {
     "data": {
      "text/plain": [
       "0                                   [Bank Fees]\n",
       "1                        [Bank Fees, Overdraft]\n",
       "2                              [Bank Fees, ATM]\n",
       "3                     [Bank Fees, Late Payment]\n",
       "4                    [Bank Fees, Fraud Dispute]\n",
       "                         ...                   \n",
       "596                           [Travel, Parking]\n",
       "597    [Travel, Public Transportation Services]\n",
       "598                              [Travel, Rail]\n",
       "599                              [Travel, Taxi]\n",
       "600                    [Travel, Tolls and Fees]\n",
       "Name: hierarchy, Length: 601, dtype: object"
      ]
     },
     "execution_count": 10,
     "metadata": {},
     "output_type": "execute_result"
    }
   ],
   "source": [
    "df['hierarchy']"
   ]
  },
  {
   "cell_type": "code",
   "execution_count": 11,
   "metadata": {},
   "outputs": [],
   "source": [
    "import json"
   ]
  },
  {
   "cell_type": "code",
   "execution_count": 12,
   "metadata": {},
   "outputs": [],
   "source": [
    "with open(r'/Users/viper/Documents/OneDrive/TellerFinance/deco-plaid-data/response.json') as f:\n",
    "    jsonFile = json.load(f)"
   ]
  },
  {
   "cell_type": "code",
   "execution_count": 13,
   "metadata": {},
   "outputs": [
    {
     "ename": "NameError",
     "evalue": "name 'response' is not defined",
     "output_type": "error",
     "traceback": [
      "\u001b[0;31m---------------------------------------------------------------------------\u001b[0m",
      "\u001b[0;31mNameError\u001b[0m                                 Traceback (most recent call last)",
      "\u001b[0;32m<ipython-input-13-94d1640a69f8>\u001b[0m in \u001b[0;36m<module>\u001b[0;34m\u001b[0m\n\u001b[0;32m----> 1\u001b[0;31m \u001b[0;32mfor\u001b[0m \u001b[0mi\u001b[0m \u001b[0;32min\u001b[0m \u001b[0mrange\u001b[0m\u001b[0;34m(\u001b[0m\u001b[0;36m0\u001b[0m\u001b[0;34m,\u001b[0m\u001b[0mlen\u001b[0m\u001b[0;34m(\u001b[0m\u001b[0mresponse\u001b[0m\u001b[0;34m)\u001b[0m\u001b[0;34m-\u001b[0m\u001b[0;36m1\u001b[0m\u001b[0;34m)\u001b[0m\u001b[0;34m:\u001b[0m\u001b[0;34m\u001b[0m\u001b[0;34m\u001b[0m\u001b[0m\n\u001b[0m\u001b[1;32m      2\u001b[0m     \u001b[0mprint\u001b[0m\u001b[0;34m(\u001b[0m\u001b[0mjsonFile\u001b[0m\u001b[0;34m[\u001b[0m\u001b[0mi\u001b[0m\u001b[0;34m]\u001b[0m\u001b[0;34m[\u001b[0m\u001b[0;34m'type'\u001b[0m\u001b[0;34m]\u001b[0m\u001b[0;34m,\u001b[0m\u001b[0;34m':'\u001b[0m\u001b[0;34m,\u001b[0m\u001b[0mjsonFile\u001b[0m\u001b[0;34m[\u001b[0m\u001b[0mi\u001b[0m\u001b[0;34m]\u001b[0m\u001b[0;34m[\u001b[0m\u001b[0;34m'subtype'\u001b[0m\u001b[0;34m]\u001b[0m \u001b[0;34m)\u001b[0m\u001b[0;34m\u001b[0m\u001b[0;34m\u001b[0m\u001b[0m\n\u001b[1;32m      3\u001b[0m \u001b[0;34m\u001b[0m\u001b[0m\n",
      "\u001b[0;31mNameError\u001b[0m: name 'response' is not defined"
     ]
    }
   ],
   "source": [
    "for i in range(0,len(response)-1):\n",
    "    print(jsonFile[i]['type'],':',jsonFile[i]['subtype'] )\n",
    "    "
   ]
  },
  {
   "cell_type": "code",
   "execution_count": 15,
   "metadata": {},
   "outputs": [
    {
     "data": {
      "text/plain": [
       "{'account_id': '68QevANGv3UmP1R9D5PXhRB7bjX8b3urxdvw1',\n",
       " 'balances': {'available': None,\n",
       "  'current': 23631.9805,\n",
       "  'iso_currency_code': 'GBP',\n",
       "  'limit': None,\n",
       "  'unofficial_currency_code': None},\n",
       " 'days_available': 3,\n",
       " 'historical_balances': [],\n",
       " 'mask': '6666',\n",
       " 'name': 'Plaid 401k',\n",
       " 'official_name': None,\n",
       " 'owners': [{'addresses': [{'data': {'city': 'Brighton',\n",
       "      'country': 'GB',\n",
       "      'postal_code': 'BN1 2NW',\n",
       "      'region': 'East Sussex',\n",
       "      'street': '1024 High Street'},\n",
       "     'primary': True},\n",
       "    {'data': {'city': 'ABERDEEN',\n",
       "      'country': 'GB',\n",
       "      'postal_code': 'AB51 7DT',\n",
       "      'region': None,\n",
       "      'street': '19 Mill Lane'},\n",
       "     'primary': False}],\n",
       "   'emails': [{'data': 'accountholder0@example.co.uk',\n",
       "     'primary': True,\n",
       "     'type': 'primary'},\n",
       "    {'data': 'accountholder1@example.com',\n",
       "     'primary': False,\n",
       "     'type': 'secondary'},\n",
       "    {'data': 'extraordinarily.long.email.username.123456@reallylonghostname.com',\n",
       "     'primary': False,\n",
       "     'type': 'other'}],\n",
       "   'names': ['Abbey Bickmarsh Caddington'],\n",
       "   'phone_numbers': [{'data': '+447000123456',\n",
       "     'primary': False,\n",
       "     'type': 'home'},\n",
       "    {'data': '+448000123456', 'primary': False, 'type': 'work'},\n",
       "    {'data': '+449000123456', 'primary': False, 'type': 'mobile'}]}],\n",
       " 'ownership_type': None,\n",
       " 'subtype': '401k',\n",
       " 'transactions': [],\n",
       " 'type': 'brokerage'}"
      ]
     },
     "execution_count": 15,
     "metadata": {},
     "output_type": "execute_result"
    }
   ],
   "source": [
    "jsonFile[0]"
   ]
  },
  {
   "cell_type": "code",
   "execution_count": 16,
   "metadata": {},
   "outputs": [],
   "source": [
    "configs = {\n",
    "  'user': {\n",
    "      'client_user_id': '123-test-user-id',\n",
    "  },\n",
    "  'products': ['auth', 'transactions'],\n",
    "  'client_name': \"Plaid Test App\",\n",
    "  'country_codes': ['GB'],\n",
    "  'language': 'en',\n",
    "  'webhook': 'https://sample-webhook-uri.com',\n",
    "  'link_customization_name': 'default',\n",
    "  'account_filters': {\n",
    "      'depository': {\n",
    "          'account_subtypes': ['checking', 'savings'],\n",
    "      },\n",
    "  },\n",
    "}"
   ]
  },
  {
   "cell_type": "code",
   "execution_count": 17,
   "metadata": {},
   "outputs": [],
   "source": [
    "response = client.LinkToken.create(configs)"
   ]
  },
  {
   "cell_type": "code",
   "execution_count": 18,
   "metadata": {},
   "outputs": [
    {
     "data": {
      "text/plain": [
       "{'expiration': '2021-05-21T01:43:47Z',\n",
       " 'link_token': 'link-sandbox-30060922-1686-4a66-802e-5c60b956fea0',\n",
       " 'request_id': 'QB6a8m84IIp2o47'}"
      ]
     },
     "execution_count": 18,
     "metadata": {},
     "output_type": "execute_result"
    }
   ],
   "source": [
    "response"
   ]
  },
  {
   "cell_type": "code",
   "execution_count": 24,
   "metadata": {},
   "outputs": [
    {
     "data": {
      "text/plain": [
       "<plaid.api.assets.AssetReport at 0x7fca5883a580>"
      ]
     },
     "execution_count": 24,
     "metadata": {},
     "output_type": "execute_result"
    }
   ],
   "source": [
    "client.AssetReport"
   ]
  },
  {
   "cell_type": "code",
   "execution_count": 26,
   "metadata": {},
   "outputs": [
    {
     "name": "stdout",
     "output_type": "stream",
     "text": [
      "Help on PublicToken in module plaid.api.sandbox object:\n",
      "\n",
      "class PublicToken(plaid.api.api.API)\n",
      " |  PublicToken(client)\n",
      " |  \n",
      " |  Sandbox public token endpoints.\n",
      " |  \n",
      " |  Method resolution order:\n",
      " |      PublicToken\n",
      " |      plaid.api.api.API\n",
      " |      builtins.object\n",
      " |  \n",
      " |  Methods defined here:\n",
      " |  \n",
      " |  create(self, institution_id, initial_products, _options=None, webhook=None, transactions__start_date=None, transactions__end_date=None, override_username=None, override_password=None)\n",
      " |      Generate a public token for sandbox testing.\n",
      " |      \n",
      " |      :param  str     institution_id:\n",
      " |      \n",
      " |      :param  [str]   initial_products:\n",
      " |      \n",
      " |      :param  str     webhook:\n",
      " |  \n",
      " |  ----------------------------------------------------------------------\n",
      " |  Methods inherited from plaid.api.api.API:\n",
      " |  \n",
      " |  __init__(self, client)\n",
      " |      Initialize self.  See help(type(self)) for accurate signature.\n",
      " |  \n",
      " |  ----------------------------------------------------------------------\n",
      " |  Data descriptors inherited from plaid.api.api.API:\n",
      " |  \n",
      " |  __dict__\n",
      " |      dictionary for instance variables (if defined)\n",
      " |  \n",
      " |  __weakref__\n",
      " |      list of weak references to the object (if defined)\n",
      "\n"
     ]
    }
   ],
   "source": [
    "help(client.Sandbox.public_token)"
   ]
  },
  {
   "cell_type": "code",
   "execution_count": 33,
   "metadata": {},
   "outputs": [],
   "source": [
    "res = client.Sandbox.public_token.create(\n",
    "        'ins_117650',\n",
    "        ['transactions']\n",
    "      )"
   ]
  },
  {
   "cell_type": "code",
   "execution_count": 35,
   "metadata": {},
   "outputs": [],
   "source": [
    "publicToken = res['public_token']\n",
    "res = client.Item.public_token.exchange(publicToken)"
   ]
  },
  {
   "cell_type": "code",
   "execution_count": 36,
   "metadata": {},
   "outputs": [
    {
     "data": {
      "text/plain": [
       "{'access_token': 'access-sandbox-05153ba9-3e15-48e0-8826-c67d21ad2ef9',\n",
       " 'item_id': '1j1l8n8glEflPeDMq1zetd7KARGpyrtQZ7bya',\n",
       " 'request_id': 'MmWVqzRNFZBJ7hm'}"
      ]
     },
     "execution_count": 36,
     "metadata": {},
     "output_type": "execute_result"
    }
   ],
   "source": [
    "res"
   ]
  },
  {
   "cell_type": "code",
   "execution_count": 37,
   "metadata": {},
   "outputs": [],
   "source": [
    "access_token = res['access_token']"
   ]
  },
  {
   "cell_type": "code",
   "execution_count": 38,
   "metadata": {},
   "outputs": [],
   "source": [
    "response = client.Transactions.get(access_token,\n",
    "                                   start_date='2020-01-01',\n",
    "                                   end_date='2020-02-01')"
   ]
  },
  {
   "cell_type": "code",
   "execution_count": 49,
   "metadata": {},
   "outputs": [
    {
     "data": {
      "text/plain": [
       "dict_keys(['accounts', 'item', 'request_id', 'total_transactions', 'transactions'])"
      ]
     },
     "execution_count": 49,
     "metadata": {},
     "output_type": "execute_result"
    }
   ],
   "source": [
    "response.keys()"
   ]
  },
  {
   "cell_type": "code",
   "execution_count": 57,
   "metadata": {},
   "outputs": [
    {
     "data": {
      "text/plain": [
       "17"
      ]
     },
     "execution_count": 57,
     "metadata": {},
     "output_type": "execute_result"
    }
   ],
   "source": [
    "len(response['transactions'])"
   ]
  },
  {
   "cell_type": "code",
   "execution_count": 63,
   "metadata": {},
   "outputs": [
    {
     "data": {
      "text/plain": [
       "17"
      ]
     },
     "execution_count": 63,
     "metadata": {},
     "output_type": "execute_result"
    }
   ],
   "source": [
    "response['total_transactions']"
   ]
  },
  {
   "cell_type": "markdown",
   "metadata": {},
   "source": [
    "# I dont know what this does "
   ]
  },
  {
   "cell_type": "code",
   "execution_count": null,
   "metadata": {},
   "outputs": [],
   "source": [
    "transactions = response['transactions']\n",
    "# Manipulate the count and offset parameters to paginate\n",
    "# transactions and retrieve all available data\n",
    "while len(transactions) < response['total_transactions']:\n",
    "    response = client.Transactions.get(access_token,\n",
    "                                       start_date='2018-01-01',\n",
    "                                       end_date='2018-02-01',\n",
    "                                       offset=len(transactions)\n",
    "                                      )\n",
    "    transactions.extend(response['transactions'])"
   ]
  },
  {
   "cell_type": "code",
   "execution_count": null,
   "metadata": {},
   "outputs": [],
   "source": []
  }
 ],
 "metadata": {
  "kernelspec": {
   "display_name": "Python 3.9.5 64-bit",
   "language": "python",
   "name": "python395jvsc74a57bd0aee8b7b246df8f9039afb4144a1f6fd8d2ca17a180786b69acc140d282b71a49"
  },
  "language_info": {
   "codemirror_mode": {
    "name": "ipython",
    "version": 3
   },
   "file_extension": ".py",
   "mimetype": "text/x-python",
   "name": "python",
   "nbconvert_exporter": "python",
   "pygments_lexer": "ipython3",
   "version": "3.9.5"
  },
  "metadata": {
   "interpreter": {
    "hash": "aee8b7b246df8f9039afb4144a1f6fd8d2ca17a180786b69acc140d282b71a49"
   }
  }
 },
 "nbformat": 4,
 "nbformat_minor": 4
}
